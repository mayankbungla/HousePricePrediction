{
 "cells": [
  {
   "cell_type": "code",
   "execution_count": 1,
   "id": "e66057c9",
   "metadata": {},
   "outputs": [],
   "source": [
    "import pandas as pd\n",
    "from sklearn.preprocessing import OrdinalEncoder,StandardScaler\n",
    "from sklearn.ensemble import RandomForestRegressor , GradientBoostingRegressor\n",
    "from sklearn.model_selection import cross_val_score , train_test_split\n",
    "from sklearn.inspection import permutation_importance\n",
    "import seaborn as sns\n",
    "import matplotlib.pyplot as plt\n",
    "import category_encoders as ce\n",
    "import warnings\n",
    "warnings.filterwarnings('ignore')"
   ]
  },
  {
   "cell_type": "code",
   "execution_count": 2,
   "id": "106adde4",
   "metadata": {},
   "outputs": [
    {
     "data": {
      "text/html": [
       "<div>\n",
       "<style scoped>\n",
       "    .dataframe tbody tr th:only-of-type {\n",
       "        vertical-align: middle;\n",
       "    }\n",
       "\n",
       "    .dataframe tbody tr th {\n",
       "        vertical-align: top;\n",
       "    }\n",
       "\n",
       "    .dataframe thead th {\n",
       "        text-align: right;\n",
       "    }\n",
       "</style>\n",
       "<table border=\"1\" class=\"dataframe\">\n",
       "  <thead>\n",
       "    <tr style=\"text-align: right;\">\n",
       "      <th></th>\n",
       "      <th>area_type</th>\n",
       "      <th>availability</th>\n",
       "      <th>location</th>\n",
       "      <th>society</th>\n",
       "      <th>total_sqft</th>\n",
       "      <th>bath</th>\n",
       "      <th>balcony</th>\n",
       "      <th>price</th>\n",
       "      <th>house_size</th>\n",
       "      <th>house_type</th>\n",
       "    </tr>\n",
       "  </thead>\n",
       "  <tbody>\n",
       "    <tr>\n",
       "      <th>0</th>\n",
       "      <td>Super built-up  Area</td>\n",
       "      <td>19-Dec</td>\n",
       "      <td>Electronic City Phase II</td>\n",
       "      <td>coomee</td>\n",
       "      <td>1056.0</td>\n",
       "      <td>2</td>\n",
       "      <td>1</td>\n",
       "      <td>39.07</td>\n",
       "      <td>2</td>\n",
       "      <td>0</td>\n",
       "    </tr>\n",
       "    <tr>\n",
       "      <th>1</th>\n",
       "      <td>Plot  Area</td>\n",
       "      <td>Ready To Move</td>\n",
       "      <td>Chikka Tirupathi</td>\n",
       "      <td>theanmp</td>\n",
       "      <td>2600.0</td>\n",
       "      <td>5</td>\n",
       "      <td>3</td>\n",
       "      <td>120.00</td>\n",
       "      <td>4</td>\n",
       "      <td>1</td>\n",
       "    </tr>\n",
       "    <tr>\n",
       "      <th>2</th>\n",
       "      <td>Built-up  Area</td>\n",
       "      <td>Ready To Move</td>\n",
       "      <td>Uttarahalli</td>\n",
       "      <td>independent</td>\n",
       "      <td>1440.0</td>\n",
       "      <td>2</td>\n",
       "      <td>3</td>\n",
       "      <td>62.00</td>\n",
       "      <td>3</td>\n",
       "      <td>0</td>\n",
       "    </tr>\n",
       "    <tr>\n",
       "      <th>3</th>\n",
       "      <td>Super built-up  Area</td>\n",
       "      <td>Ready To Move</td>\n",
       "      <td>Lingadheeranahalli</td>\n",
       "      <td>soiewre</td>\n",
       "      <td>1521.0</td>\n",
       "      <td>3</td>\n",
       "      <td>1</td>\n",
       "      <td>95.00</td>\n",
       "      <td>3</td>\n",
       "      <td>0</td>\n",
       "    </tr>\n",
       "    <tr>\n",
       "      <th>4</th>\n",
       "      <td>Super built-up  Area</td>\n",
       "      <td>Ready To Move</td>\n",
       "      <td>Kothanur</td>\n",
       "      <td>independent</td>\n",
       "      <td>1200.0</td>\n",
       "      <td>2</td>\n",
       "      <td>1</td>\n",
       "      <td>51.00</td>\n",
       "      <td>2</td>\n",
       "      <td>0</td>\n",
       "    </tr>\n",
       "  </tbody>\n",
       "</table>\n",
       "</div>"
      ],
      "text/plain": [
       "              area_type   availability                  location      society  \\\n",
       "0  Super built-up  Area         19-Dec  Electronic City Phase II      coomee    \n",
       "1            Plot  Area  Ready To Move          Chikka Tirupathi      theanmp   \n",
       "2        Built-up  Area  Ready To Move               Uttarahalli  independent   \n",
       "3  Super built-up  Area  Ready To Move        Lingadheeranahalli      soiewre   \n",
       "4  Super built-up  Area  Ready To Move                  Kothanur  independent   \n",
       "\n",
       "   total_sqft  bath  balcony   price  house_size  house_type  \n",
       "0      1056.0     2        1   39.07           2           0  \n",
       "1      2600.0     5        3  120.00           4           1  \n",
       "2      1440.0     2        3   62.00           3           0  \n",
       "3      1521.0     3        1   95.00           3           0  \n",
       "4      1200.0     2        1   51.00           2           0  "
      ]
     },
     "execution_count": 2,
     "metadata": {},
     "output_type": "execute_result"
    }
   ],
   "source": [
    "df = pd.read_csv('cleaned_data.csv')\n",
    "df.head()"
   ]
  },
  {
   "cell_type": "markdown",
   "id": "fe047bee",
   "metadata": {},
   "source": [
    "### availability\n",
    "\n",
    "- After checking different methods i come to a conclusion to simplify the process\n",
    "\n",
    "**Converting availability column**\n",
    "- 1 if house is Ready to move\n",
    "- 0 if it is availabe in future"
   ]
  },
  {
   "cell_type": "code",
   "execution_count": 3,
   "id": "0aacbc81",
   "metadata": {},
   "outputs": [],
   "source": [
    "df['availability'] = df['availability'].apply(lambda x: 1 if x == 'Ready To Move' else 0)"
   ]
  },
  {
   "cell_type": "code",
   "execution_count": 4,
   "id": "076498f7",
   "metadata": {},
   "outputs": [
    {
     "data": {
      "text/html": [
       "<div>\n",
       "<style scoped>\n",
       "    .dataframe tbody tr th:only-of-type {\n",
       "        vertical-align: middle;\n",
       "    }\n",
       "\n",
       "    .dataframe tbody tr th {\n",
       "        vertical-align: top;\n",
       "    }\n",
       "\n",
       "    .dataframe thead th {\n",
       "        text-align: right;\n",
       "    }\n",
       "</style>\n",
       "<table border=\"1\" class=\"dataframe\">\n",
       "  <thead>\n",
       "    <tr style=\"text-align: right;\">\n",
       "      <th></th>\n",
       "      <th>area_type</th>\n",
       "      <th>availability</th>\n",
       "      <th>location</th>\n",
       "      <th>society</th>\n",
       "      <th>total_sqft</th>\n",
       "      <th>bath</th>\n",
       "      <th>balcony</th>\n",
       "      <th>price</th>\n",
       "      <th>house_size</th>\n",
       "      <th>house_type</th>\n",
       "    </tr>\n",
       "  </thead>\n",
       "  <tbody>\n",
       "    <tr>\n",
       "      <th>0</th>\n",
       "      <td>Super built-up  Area</td>\n",
       "      <td>0</td>\n",
       "      <td>Electronic City Phase II</td>\n",
       "      <td>coomee</td>\n",
       "      <td>1056.0</td>\n",
       "      <td>2</td>\n",
       "      <td>1</td>\n",
       "      <td>39.07</td>\n",
       "      <td>2</td>\n",
       "      <td>0</td>\n",
       "    </tr>\n",
       "    <tr>\n",
       "      <th>1</th>\n",
       "      <td>Plot  Area</td>\n",
       "      <td>1</td>\n",
       "      <td>Chikka Tirupathi</td>\n",
       "      <td>theanmp</td>\n",
       "      <td>2600.0</td>\n",
       "      <td>5</td>\n",
       "      <td>3</td>\n",
       "      <td>120.00</td>\n",
       "      <td>4</td>\n",
       "      <td>1</td>\n",
       "    </tr>\n",
       "    <tr>\n",
       "      <th>2</th>\n",
       "      <td>Built-up  Area</td>\n",
       "      <td>1</td>\n",
       "      <td>Uttarahalli</td>\n",
       "      <td>independent</td>\n",
       "      <td>1440.0</td>\n",
       "      <td>2</td>\n",
       "      <td>3</td>\n",
       "      <td>62.00</td>\n",
       "      <td>3</td>\n",
       "      <td>0</td>\n",
       "    </tr>\n",
       "    <tr>\n",
       "      <th>3</th>\n",
       "      <td>Super built-up  Area</td>\n",
       "      <td>1</td>\n",
       "      <td>Lingadheeranahalli</td>\n",
       "      <td>soiewre</td>\n",
       "      <td>1521.0</td>\n",
       "      <td>3</td>\n",
       "      <td>1</td>\n",
       "      <td>95.00</td>\n",
       "      <td>3</td>\n",
       "      <td>0</td>\n",
       "    </tr>\n",
       "    <tr>\n",
       "      <th>4</th>\n",
       "      <td>Super built-up  Area</td>\n",
       "      <td>1</td>\n",
       "      <td>Kothanur</td>\n",
       "      <td>independent</td>\n",
       "      <td>1200.0</td>\n",
       "      <td>2</td>\n",
       "      <td>1</td>\n",
       "      <td>51.00</td>\n",
       "      <td>2</td>\n",
       "      <td>0</td>\n",
       "    </tr>\n",
       "  </tbody>\n",
       "</table>\n",
       "</div>"
      ],
      "text/plain": [
       "              area_type  availability                  location      society  \\\n",
       "0  Super built-up  Area             0  Electronic City Phase II      coomee    \n",
       "1            Plot  Area             1          Chikka Tirupathi      theanmp   \n",
       "2        Built-up  Area             1               Uttarahalli  independent   \n",
       "3  Super built-up  Area             1        Lingadheeranahalli      soiewre   \n",
       "4  Super built-up  Area             1                  Kothanur  independent   \n",
       "\n",
       "   total_sqft  bath  balcony   price  house_size  house_type  \n",
       "0      1056.0     2        1   39.07           2           0  \n",
       "1      2600.0     5        3  120.00           4           1  \n",
       "2      1440.0     2        3   62.00           3           0  \n",
       "3      1521.0     3        1   95.00           3           0  \n",
       "4      1200.0     2        1   51.00           2           0  "
      ]
     },
     "execution_count": 4,
     "metadata": {},
     "output_type": "execute_result"
    }
   ],
   "source": [
    "df.head()"
   ]
  },
  {
   "cell_type": "markdown",
   "id": "0a0ad283",
   "metadata": {},
   "source": [
    "### Ordinal Encode - area_type\n",
    "\n",
    "- (Tried : OHE , LabelEncoding,Target Encoding) \n",
    "- On checking correlation of the column after each encoding, Ordinal Encoding is providing the best results."
   ]
  },
  {
   "cell_type": "code",
   "execution_count": 5,
   "id": "f53a1e86",
   "metadata": {},
   "outputs": [],
   "source": [
    "# ordinal mapping\n",
    "ordinal_mapping = {\n",
    "    'Super built-up  Area': 4,\n",
    "    'Built-up  Area': 3,\n",
    "    'Plot  Area': 2,\n",
    "    'Carpet  Area': 1\n",
    "}\n",
    "\n",
    "# instance of the OrdinalEncoder with the defined mapping\n",
    "ordinal_encoder = OrdinalEncoder(categories=[sorted(ordinal_mapping, key=ordinal_mapping.get, reverse=True)])\n",
    "\n",
    "# Apply ordinal encoding to the area_type column\n",
    "df['area_type'] = ordinal_encoder.fit_transform(df[['area_type']])\n"
   ]
  },
  {
   "cell_type": "markdown",
   "id": "123cd9bd",
   "metadata": {},
   "source": [
    "### Target Encode - 'society' , 'location'\n",
    "\n",
    "- Using target encoder as these columns does not contain any inherent order and have 80 different dates. "
   ]
  },
  {
   "cell_type": "code",
   "execution_count": 6,
   "id": "4030ddd9",
   "metadata": {},
   "outputs": [],
   "source": [
    "# Target Encoder : replace categories with the mean of the target variable for each category\n",
    "\n",
    "encoder = ce.TargetEncoder(cols=['society', 'location'])\n",
    "\n",
    "# Fit and transform the data\n",
    "df_encoded = encoder.fit_transform(df, df['price'])\n",
    "\n",
    "# Replace the original columns with the encoded ones\n",
    "df[['society', 'location']] = df_encoded[['society', 'location']]"
   ]
  },
  {
   "cell_type": "code",
   "execution_count": 7,
   "id": "34aaaa9b",
   "metadata": {},
   "outputs": [
    {
     "data": {
      "text/html": [
       "<div>\n",
       "<style scoped>\n",
       "    .dataframe tbody tr th:only-of-type {\n",
       "        vertical-align: middle;\n",
       "    }\n",
       "\n",
       "    .dataframe tbody tr th {\n",
       "        vertical-align: top;\n",
       "    }\n",
       "\n",
       "    .dataframe thead th {\n",
       "        text-align: right;\n",
       "    }\n",
       "</style>\n",
       "<table border=\"1\" class=\"dataframe\">\n",
       "  <thead>\n",
       "    <tr style=\"text-align: right;\">\n",
       "      <th></th>\n",
       "      <th>area_type</th>\n",
       "      <th>availability</th>\n",
       "      <th>location</th>\n",
       "      <th>society</th>\n",
       "      <th>total_sqft</th>\n",
       "      <th>bath</th>\n",
       "      <th>balcony</th>\n",
       "      <th>price</th>\n",
       "      <th>house_size</th>\n",
       "      <th>house_type</th>\n",
       "    </tr>\n",
       "  </thead>\n",
       "  <tbody>\n",
       "    <tr>\n",
       "      <th>0</th>\n",
       "      <td>0.0</td>\n",
       "      <td>0</td>\n",
       "      <td>47.021069</td>\n",
       "      <td>87.018319</td>\n",
       "      <td>1056.0</td>\n",
       "      <td>2</td>\n",
       "      <td>1</td>\n",
       "      <td>39.07</td>\n",
       "      <td>2</td>\n",
       "      <td>0</td>\n",
       "    </tr>\n",
       "    <tr>\n",
       "      <th>1</th>\n",
       "      <td>2.0</td>\n",
       "      <td>1</td>\n",
       "      <td>101.194847</td>\n",
       "      <td>101.583172</td>\n",
       "      <td>2600.0</td>\n",
       "      <td>5</td>\n",
       "      <td>3</td>\n",
       "      <td>120.00</td>\n",
       "      <td>4</td>\n",
       "      <td>1</td>\n",
       "    </tr>\n",
       "    <tr>\n",
       "      <th>2</th>\n",
       "      <td>1.0</td>\n",
       "      <td>1</td>\n",
       "      <td>61.665593</td>\n",
       "      <td>100.963959</td>\n",
       "      <td>1440.0</td>\n",
       "      <td>2</td>\n",
       "      <td>3</td>\n",
       "      <td>62.00</td>\n",
       "      <td>3</td>\n",
       "      <td>0</td>\n",
       "    </tr>\n",
       "    <tr>\n",
       "      <th>3</th>\n",
       "      <td>0.0</td>\n",
       "      <td>1</td>\n",
       "      <td>106.445528</td>\n",
       "      <td>106.781414</td>\n",
       "      <td>1521.0</td>\n",
       "      <td>3</td>\n",
       "      <td>1</td>\n",
       "      <td>95.00</td>\n",
       "      <td>3</td>\n",
       "      <td>0</td>\n",
       "    </tr>\n",
       "    <tr>\n",
       "      <th>4</th>\n",
       "      <td>0.0</td>\n",
       "      <td>1</td>\n",
       "      <td>87.743567</td>\n",
       "      <td>100.963959</td>\n",
       "      <td>1200.0</td>\n",
       "      <td>2</td>\n",
       "      <td>1</td>\n",
       "      <td>51.00</td>\n",
       "      <td>2</td>\n",
       "      <td>0</td>\n",
       "    </tr>\n",
       "  </tbody>\n",
       "</table>\n",
       "</div>"
      ],
      "text/plain": [
       "   area_type  availability    location     society  total_sqft  bath  balcony  \\\n",
       "0        0.0             0   47.021069   87.018319      1056.0     2        1   \n",
       "1        2.0             1  101.194847  101.583172      2600.0     5        3   \n",
       "2        1.0             1   61.665593  100.963959      1440.0     2        3   \n",
       "3        0.0             1  106.445528  106.781414      1521.0     3        1   \n",
       "4        0.0             1   87.743567  100.963959      1200.0     2        1   \n",
       "\n",
       "    price  house_size  house_type  \n",
       "0   39.07           2           0  \n",
       "1  120.00           4           1  \n",
       "2   62.00           3           0  \n",
       "3   95.00           3           0  \n",
       "4   51.00           2           0  "
      ]
     },
     "execution_count": 7,
     "metadata": {},
     "output_type": "execute_result"
    }
   ],
   "source": [
    "df.head()"
   ]
  },
  {
   "cell_type": "markdown",
   "id": "0cd7518a",
   "metadata": {},
   "source": [
    "## Checking Feature importance"
   ]
  },
  {
   "cell_type": "code",
   "execution_count": 8,
   "id": "52a72796",
   "metadata": {},
   "outputs": [],
   "source": [
    "# changing price column position for better interpretability in heatmap\n",
    "\n",
    "price_column = df.pop('price')  \n",
    "df.insert(0, 'price', price_column)"
   ]
  },
  {
   "cell_type": "markdown",
   "id": "bc3050e9",
   "metadata": {},
   "source": [
    "### Technique 1"
   ]
  },
  {
   "cell_type": "code",
   "execution_count": 9,
   "id": "06947762",
   "metadata": {},
   "outputs": [
    {
     "data": {
      "text/html": [
       "<div>\n",
       "<style scoped>\n",
       "    .dataframe tbody tr th:only-of-type {\n",
       "        vertical-align: middle;\n",
       "    }\n",
       "\n",
       "    .dataframe tbody tr th {\n",
       "        vertical-align: top;\n",
       "    }\n",
       "\n",
       "    .dataframe thead th {\n",
       "        text-align: right;\n",
       "    }\n",
       "</style>\n",
       "<table border=\"1\" class=\"dataframe\">\n",
       "  <thead>\n",
       "    <tr style=\"text-align: right;\">\n",
       "      <th></th>\n",
       "      <th>feature</th>\n",
       "      <th>corr_coeff</th>\n",
       "    </tr>\n",
       "  </thead>\n",
       "  <tbody>\n",
       "    <tr>\n",
       "      <th>0</th>\n",
       "      <td>area_type</td>\n",
       "      <td>0.260267</td>\n",
       "    </tr>\n",
       "    <tr>\n",
       "      <th>1</th>\n",
       "      <td>availability</td>\n",
       "      <td>0.078636</td>\n",
       "    </tr>\n",
       "    <tr>\n",
       "      <th>2</th>\n",
       "      <td>location</td>\n",
       "      <td>0.513361</td>\n",
       "    </tr>\n",
       "    <tr>\n",
       "      <th>3</th>\n",
       "      <td>society</td>\n",
       "      <td>0.522799</td>\n",
       "    </tr>\n",
       "    <tr>\n",
       "      <th>4</th>\n",
       "      <td>total_sqft</td>\n",
       "      <td>0.727278</td>\n",
       "    </tr>\n",
       "    <tr>\n",
       "      <th>5</th>\n",
       "      <td>bath</td>\n",
       "      <td>0.622468</td>\n",
       "    </tr>\n",
       "    <tr>\n",
       "      <th>6</th>\n",
       "      <td>balcony</td>\n",
       "      <td>0.066440</td>\n",
       "    </tr>\n",
       "    <tr>\n",
       "      <th>7</th>\n",
       "      <td>house_size</td>\n",
       "      <td>0.557690</td>\n",
       "    </tr>\n",
       "    <tr>\n",
       "      <th>8</th>\n",
       "      <td>house_type</td>\n",
       "      <td>0.337047</td>\n",
       "    </tr>\n",
       "  </tbody>\n",
       "</table>\n",
       "</div>"
      ],
      "text/plain": [
       "        feature  corr_coeff\n",
       "0     area_type    0.260267\n",
       "1  availability    0.078636\n",
       "2      location    0.513361\n",
       "3       society    0.522799\n",
       "4    total_sqft    0.727278\n",
       "5          bath    0.622468\n",
       "6       balcony    0.066440\n",
       "7    house_size    0.557690\n",
       "8    house_type    0.337047"
      ]
     },
     "execution_count": 9,
     "metadata": {},
     "output_type": "execute_result"
    }
   ],
   "source": [
    "# checkin feature importance\n",
    "fi_df1 = df.corr()['price'].iloc[1:].to_frame().reset_index().rename(columns={'index':'feature','price':'corr_coeff'})\n",
    "fi_df1"
   ]
  },
  {
   "cell_type": "code",
   "execution_count": 10,
   "id": "5953eba4",
   "metadata": {},
   "outputs": [],
   "source": [
    "# Splitting the dataset into training and testing sets\n",
    "X = df.drop('price', axis=1)\n",
    "y = df['price']"
   ]
  },
  {
   "cell_type": "code",
   "execution_count": 11,
   "id": "50d836cb",
   "metadata": {},
   "outputs": [],
   "source": [
    "X_train, X_test, y_train, y_test = train_test_split(X, y, test_size=0.2,random_state=42)"
   ]
  },
  {
   "cell_type": "markdown",
   "id": "3b712808",
   "metadata": {},
   "source": [
    "### Technique 2 - by random forest"
   ]
  },
  {
   "cell_type": "code",
   "execution_count": 12,
   "id": "a74a5972",
   "metadata": {
    "scrolled": true
   },
   "outputs": [
    {
     "data": {
      "text/html": [
       "<div>\n",
       "<style scoped>\n",
       "    .dataframe tbody tr th:only-of-type {\n",
       "        vertical-align: middle;\n",
       "    }\n",
       "\n",
       "    .dataframe tbody tr th {\n",
       "        vertical-align: top;\n",
       "    }\n",
       "\n",
       "    .dataframe thead th {\n",
       "        text-align: right;\n",
       "    }\n",
       "</style>\n",
       "<table border=\"1\" class=\"dataframe\">\n",
       "  <thead>\n",
       "    <tr style=\"text-align: right;\">\n",
       "      <th></th>\n",
       "      <th>feature</th>\n",
       "      <th>rf_importance</th>\n",
       "    </tr>\n",
       "  </thead>\n",
       "  <tbody>\n",
       "    <tr>\n",
       "      <th>4</th>\n",
       "      <td>total_sqft</td>\n",
       "      <td>0.559914</td>\n",
       "    </tr>\n",
       "    <tr>\n",
       "      <th>2</th>\n",
       "      <td>location</td>\n",
       "      <td>0.174502</td>\n",
       "    </tr>\n",
       "    <tr>\n",
       "      <th>5</th>\n",
       "      <td>bath</td>\n",
       "      <td>0.108634</td>\n",
       "    </tr>\n",
       "    <tr>\n",
       "      <th>3</th>\n",
       "      <td>society</td>\n",
       "      <td>0.083417</td>\n",
       "    </tr>\n",
       "    <tr>\n",
       "      <th>0</th>\n",
       "      <td>area_type</td>\n",
       "      <td>0.025623</td>\n",
       "    </tr>\n",
       "    <tr>\n",
       "      <th>6</th>\n",
       "      <td>balcony</td>\n",
       "      <td>0.016763</td>\n",
       "    </tr>\n",
       "    <tr>\n",
       "      <th>7</th>\n",
       "      <td>house_size</td>\n",
       "      <td>0.013594</td>\n",
       "    </tr>\n",
       "    <tr>\n",
       "      <th>8</th>\n",
       "      <td>house_type</td>\n",
       "      <td>0.013313</td>\n",
       "    </tr>\n",
       "    <tr>\n",
       "      <th>1</th>\n",
       "      <td>availability</td>\n",
       "      <td>0.004240</td>\n",
       "    </tr>\n",
       "  </tbody>\n",
       "</table>\n",
       "</div>"
      ],
      "text/plain": [
       "        feature  rf_importance\n",
       "4    total_sqft       0.559914\n",
       "2      location       0.174502\n",
       "5          bath       0.108634\n",
       "3       society       0.083417\n",
       "0     area_type       0.025623\n",
       "6       balcony       0.016763\n",
       "7    house_size       0.013594\n",
       "8    house_type       0.013313\n",
       "1  availability       0.004240"
      ]
     },
     "execution_count": 12,
     "metadata": {},
     "output_type": "execute_result"
    }
   ],
   "source": [
    "# Train a Random Forest regressor on label encoded data\n",
    "rf = RandomForestRegressor(n_estimators=100, random_state=42)\n",
    "rf.fit(X_train, y_train)\n",
    "\n",
    "# Extract feature importance scores for label encoded data\n",
    "fi_df2 = pd.DataFrame({\n",
    "    'feature': X_train.columns,\n",
    "    'rf_importance': rf.feature_importances_\n",
    "}).sort_values(by='rf_importance', ascending=False)\n",
    "\n",
    "fi_df2"
   ]
  },
  {
   "cell_type": "markdown",
   "id": "036711bc",
   "metadata": {},
   "source": [
    "### Technique 3 - Gradient Boosting"
   ]
  },
  {
   "cell_type": "code",
   "execution_count": 13,
   "id": "64654c26",
   "metadata": {},
   "outputs": [
    {
     "data": {
      "text/html": [
       "<div>\n",
       "<style scoped>\n",
       "    .dataframe tbody tr th:only-of-type {\n",
       "        vertical-align: middle;\n",
       "    }\n",
       "\n",
       "    .dataframe tbody tr th {\n",
       "        vertical-align: top;\n",
       "    }\n",
       "\n",
       "    .dataframe thead th {\n",
       "        text-align: right;\n",
       "    }\n",
       "</style>\n",
       "<table border=\"1\" class=\"dataframe\">\n",
       "  <thead>\n",
       "    <tr style=\"text-align: right;\">\n",
       "      <th></th>\n",
       "      <th>feature</th>\n",
       "      <th>gb_importance</th>\n",
       "    </tr>\n",
       "  </thead>\n",
       "  <tbody>\n",
       "    <tr>\n",
       "      <th>4</th>\n",
       "      <td>total_sqft</td>\n",
       "      <td>0.619159</td>\n",
       "    </tr>\n",
       "    <tr>\n",
       "      <th>2</th>\n",
       "      <td>location</td>\n",
       "      <td>0.156201</td>\n",
       "    </tr>\n",
       "    <tr>\n",
       "      <th>5</th>\n",
       "      <td>bath</td>\n",
       "      <td>0.082847</td>\n",
       "    </tr>\n",
       "    <tr>\n",
       "      <th>3</th>\n",
       "      <td>society</td>\n",
       "      <td>0.076734</td>\n",
       "    </tr>\n",
       "    <tr>\n",
       "      <th>0</th>\n",
       "      <td>area_type</td>\n",
       "      <td>0.030219</td>\n",
       "    </tr>\n",
       "    <tr>\n",
       "      <th>8</th>\n",
       "      <td>house_type</td>\n",
       "      <td>0.017092</td>\n",
       "    </tr>\n",
       "    <tr>\n",
       "      <th>7</th>\n",
       "      <td>house_size</td>\n",
       "      <td>0.015202</td>\n",
       "    </tr>\n",
       "    <tr>\n",
       "      <th>1</th>\n",
       "      <td>availability</td>\n",
       "      <td>0.001563</td>\n",
       "    </tr>\n",
       "    <tr>\n",
       "      <th>6</th>\n",
       "      <td>balcony</td>\n",
       "      <td>0.000982</td>\n",
       "    </tr>\n",
       "  </tbody>\n",
       "</table>\n",
       "</div>"
      ],
      "text/plain": [
       "        feature  gb_importance\n",
       "4    total_sqft       0.619159\n",
       "2      location       0.156201\n",
       "5          bath       0.082847\n",
       "3       society       0.076734\n",
       "0     area_type       0.030219\n",
       "8    house_type       0.017092\n",
       "7    house_size       0.015202\n",
       "1  availability       0.001563\n",
       "6       balcony       0.000982"
      ]
     },
     "execution_count": 13,
     "metadata": {},
     "output_type": "execute_result"
    }
   ],
   "source": [
    "# Train a Random Forest regressor on encoded data\n",
    "gb = GradientBoostingRegressor()\n",
    "gb.fit(X_train, y_train)\n",
    "\n",
    "# Extract feature importance scores for label encoded data\n",
    "fi_df3 = pd.DataFrame({\n",
    "    'feature': X_train.columns,\n",
    "    'gb_importance': gb.feature_importances_\n",
    "}).sort_values(by='gb_importance', ascending=False)\n",
    "\n",
    "fi_df3"
   ]
  },
  {
   "cell_type": "markdown",
   "id": "3f5a1544",
   "metadata": {},
   "source": [
    "### Technique 4 - Permutation Importance"
   ]
  },
  {
   "cell_type": "code",
   "execution_count": 14,
   "id": "5c6466fe",
   "metadata": {},
   "outputs": [
    {
     "data": {
      "text/html": [
       "<div>\n",
       "<style scoped>\n",
       "    .dataframe tbody tr th:only-of-type {\n",
       "        vertical-align: middle;\n",
       "    }\n",
       "\n",
       "    .dataframe tbody tr th {\n",
       "        vertical-align: top;\n",
       "    }\n",
       "\n",
       "    .dataframe thead th {\n",
       "        text-align: right;\n",
       "    }\n",
       "</style>\n",
       "<table border=\"1\" class=\"dataframe\">\n",
       "  <thead>\n",
       "    <tr style=\"text-align: right;\">\n",
       "      <th></th>\n",
       "      <th>feature</th>\n",
       "      <th>permutation_importance</th>\n",
       "    </tr>\n",
       "  </thead>\n",
       "  <tbody>\n",
       "    <tr>\n",
       "      <th>4</th>\n",
       "      <td>total_sqft</td>\n",
       "      <td>0.408945</td>\n",
       "    </tr>\n",
       "    <tr>\n",
       "      <th>2</th>\n",
       "      <td>location</td>\n",
       "      <td>0.234557</td>\n",
       "    </tr>\n",
       "    <tr>\n",
       "      <th>3</th>\n",
       "      <td>society</td>\n",
       "      <td>0.159893</td>\n",
       "    </tr>\n",
       "    <tr>\n",
       "      <th>0</th>\n",
       "      <td>area_type</td>\n",
       "      <td>0.062640</td>\n",
       "    </tr>\n",
       "    <tr>\n",
       "      <th>5</th>\n",
       "      <td>bath</td>\n",
       "      <td>0.058254</td>\n",
       "    </tr>\n",
       "    <tr>\n",
       "      <th>8</th>\n",
       "      <td>house_type</td>\n",
       "      <td>0.040481</td>\n",
       "    </tr>\n",
       "    <tr>\n",
       "      <th>6</th>\n",
       "      <td>balcony</td>\n",
       "      <td>0.010870</td>\n",
       "    </tr>\n",
       "    <tr>\n",
       "      <th>7</th>\n",
       "      <td>house_size</td>\n",
       "      <td>0.005645</td>\n",
       "    </tr>\n",
       "    <tr>\n",
       "      <th>1</th>\n",
       "      <td>availability</td>\n",
       "      <td>0.001561</td>\n",
       "    </tr>\n",
       "  </tbody>\n",
       "</table>\n",
       "</div>"
      ],
      "text/plain": [
       "        feature  permutation_importance\n",
       "4    total_sqft                0.408945\n",
       "2      location                0.234557\n",
       "3       society                0.159893\n",
       "0     area_type                0.062640\n",
       "5          bath                0.058254\n",
       "8    house_type                0.040481\n",
       "6       balcony                0.010870\n",
       "7    house_size                0.005645\n",
       "1  availability                0.001561"
      ]
     },
     "execution_count": 14,
     "metadata": {},
     "output_type": "execute_result"
    }
   ],
   "source": [
    "# Train a Random Forest regressor\n",
    "rf = RandomForestRegressor(n_estimators=100, random_state=42)\n",
    "rf.fit(X_train, y_train)\n",
    "\n",
    "# Calculate Permutation Importance\n",
    "perm_importance = permutation_importance(rf, X_test, y_test, n_repeats=30, random_state=42)\n",
    "\n",
    "# Organize results into a DataFrame\n",
    "fi_df4 = pd.DataFrame({\n",
    "    'feature': X_train.columns,\n",
    "    'permutation_importance': perm_importance.importances_mean\n",
    "}).sort_values(by='permutation_importance', ascending=False)\n",
    "\n",
    "fi_df4"
   ]
  },
  {
   "cell_type": "code",
   "execution_count": 15,
   "id": "f21a4e97",
   "metadata": {},
   "outputs": [],
   "source": [
    "final_fi_df = fi_df1.merge(fi_df2,on='feature').merge(fi_df3,on='feature').merge(fi_df4,on='feature').set_index('feature')"
   ]
  },
  {
   "cell_type": "code",
   "execution_count": 16,
   "id": "b2a12632",
   "metadata": {},
   "outputs": [
    {
     "data": {
      "text/plain": [
       "feature\n",
       "total_sqft      0.531718\n",
       "location        0.189785\n",
       "society         0.107611\n",
       "bath            0.083584\n",
       "area_type       0.039859\n",
       "house_type      0.023864\n",
       "house_size      0.011513\n",
       "balcony         0.009602\n",
       "availability    0.002464\n",
       "dtype: float64"
      ]
     },
     "execution_count": 16,
     "metadata": {},
     "output_type": "execute_result"
    }
   ],
   "source": [
    "# normalize the score\n",
    "final_fi_df = final_fi_df.divide(final_fi_df.sum(axis=0), axis=1)\n",
    "final_fi_df[['rf_importance','gb_importance','permutation_importance']].mean(axis=1).sort_values(ascending=False)"
   ]
  },
  {
   "cell_type": "code",
   "execution_count": 17,
   "id": "6bb9852c",
   "metadata": {},
   "outputs": [
    {
     "data": {
      "image/png": "[encoded data removed]",
      "text/plain": [
       "<Figure size 600x400 with 2 Axes>"
      ]
     },
     "metadata": {},
     "output_type": "display_data"
    }
   ],
   "source": [
    "# Heatmap \n",
    "def create_heatmap(data):\n",
    "    plt.figure(figsize=(6,4))\n",
    "    sns.heatmap(data.corr(), annot=True, fmt=\".2f\", cmap='RdYlGn')\n",
    "    plt.title('Heatmap for Columns')\n",
    "    plt.show()\n",
    "\n",
    "create_heatmap(df)"
   ]
  },
  {
   "cell_type": "markdown",
   "id": "f19c4724",
   "metadata": {},
   "source": [
    "# Observation\n",
    "\n",
    "- total_sqft , bath, house_size, society & location are most important features.\n",
    "\n",
    "- availability & balcony are least contributing factor."
   ]
  },
  {
   "cell_type": "code",
   "execution_count": 18,
   "id": "d06ac221",
   "metadata": {},
   "outputs": [],
   "source": [
    "# with all the cols\n",
    "rf = RandomForestRegressor(n_estimators=100, random_state=42)\n",
    "\n",
    "scores = cross_val_score(rf, X_train, y_train, cv=5, scoring='r2')"
   ]
  },
  {
   "cell_type": "code",
   "execution_count": 19,
   "id": "d67332f7",
   "metadata": {},
   "outputs": [
    {
     "data": {
      "text/plain": [
       "0.8303394371689633"
      ]
     },
     "execution_count": 19,
     "metadata": {},
     "output_type": "execute_result"
    }
   ],
   "source": [
    "scores.mean()"
   ]
  },
  {
   "cell_type": "code",
   "execution_count": 20,
   "id": "d921138b",
   "metadata": {},
   "outputs": [],
   "source": [
    "rf = RandomForestRegressor(n_estimators=100, random_state=42)\n",
    "\n",
    "scores = cross_val_score(rf, X_train.drop(columns=['availability', 'balcony']), y_train, cv=5, scoring='r2')"
   ]
  },
  {
   "cell_type": "code",
   "execution_count": 21,
   "id": "90e30ca9",
   "metadata": {},
   "outputs": [
    {
     "data": {
      "text/plain": [
       "0.827295363862387"
      ]
     },
     "execution_count": 21,
     "metadata": {},
     "output_type": "execute_result"
    }
   ],
   "source": [
    "scores.mean()"
   ]
  },
  {
   "cell_type": "code",
   "execution_count": 22,
   "id": "60395192",
   "metadata": {},
   "outputs": [
    {
     "name": "stdout",
     "output_type": "stream",
     "text": [
      "<class 'pandas.core.frame.DataFrame'>\n",
      "RangeIndex: 12106 entries, 0 to 12105\n",
      "Data columns (total 10 columns):\n",
      " #   Column        Non-Null Count  Dtype  \n",
      "---  ------        --------------  -----  \n",
      " 0   price         12106 non-null  float64\n",
      " 1   area_type     12106 non-null  float64\n",
      " 2   availability  12106 non-null  int64  \n",
      " 3   location      12106 non-null  float64\n",
      " 4   society       12106 non-null  float64\n",
      " 5   total_sqft    12106 non-null  float64\n",
      " 6   bath          12106 non-null  int64  \n",
      " 7   balcony       12106 non-null  int64  \n",
      " 8   house_size    12106 non-null  int64  \n",
      " 9   house_type    12106 non-null  int64  \n",
      "dtypes: float64(5), int64(5)\n",
      "memory usage: 945.9 KB\n"
     ]
    }
   ],
   "source": [
    "df.info()"
   ]
  },
  {
   "cell_type": "code",
   "execution_count": null,
   "id": "7a0c5af7",
   "metadata": {},
   "outputs": [],
   "source": []
  },
  {
   "cell_type": "markdown",
   "id": "c8be334b",
   "metadata": {},
   "source": [
    "**Deciding not to drop the columns**"
   ]
  },
  {
   "cell_type": "code",
   "execution_count": 23,
   "id": "b2cb0cdd",
   "metadata": {},
   "outputs": [],
   "source": [
    "df.to_csv('cleaned_feature_selection.csv', index=False)"
   ]
  },
  {
   "cell_type": "code",
   "execution_count": null,
   "id": "237ec67f",
   "metadata": {},
   "outputs": [],
   "source": []
  }
 ],
 "metadata": {
  "kernelspec": {
   "display_name": "Python 3 (ipykernel)",
   "language": "python",
   "name": "python3"
  },
  "language_info": {
   "codemirror_mode": {
    "name": "ipython",
    "version": 3
   },
   "file_extension": ".py",
   "mimetype": "text/x-python",
   "name": "python",
   "nbconvert_exporter": "python",
   "pygments_lexer": "ipython3",
   "version": "3.11.5"
  }
 },
 "nbformat": 4,
 "nbformat_minor": 5
}
