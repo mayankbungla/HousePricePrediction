{
 "cells": [
  {
   "cell_type": "code",
   "execution_count": 36,
   "id": "86ace478",
   "metadata": {
    "id": "86ace478"
   },
   "outputs": [],
   "source": [
    "# Import necessary modules\n",
    "\n",
    "import pandas as pd\n",
    "import numpy as np\n",
    "import warnings\n",
    "warnings.filterwarnings(\"ignore\")"
   ]
  },
  {
   "cell_type": "code",
   "execution_count": 37,
   "id": "62387318",
   "metadata": {
    "id": "62387318"
   },
   "outputs": [],
   "source": [
    "# pd.set_option('display.max_rows', None)"
   ]
  },
  {
   "cell_type": "code",
   "execution_count": 38,
   "id": "33a137d3",
   "metadata": {
    "colab": {
     "base_uri": "https://localhost:8080/",
     "height": 423
    },
    "id": "33a137d3",
    "outputId": "41bd3dd7-2999-429c-9e10-4c3a0162366c"
   },
   "outputs": [
    {
     "data": {
      "text/html": [
       "<div>\n",
       "<style scoped>\n",
       "    .dataframe tbody tr th:only-of-type {\n",
       "        vertical-align: middle;\n",
       "    }\n",
       "\n",
       "    .dataframe tbody tr th {\n",
       "        vertical-align: top;\n",
       "    }\n",
       "\n",
       "    .dataframe thead th {\n",
       "        text-align: right;\n",
       "    }\n",
       "</style>\n",
       "<table border=\"1\" class=\"dataframe\">\n",
       "  <thead>\n",
       "    <tr style=\"text-align: right;\">\n",
       "      <th></th>\n",
       "      <th>area_type</th>\n",
       "      <th>availability</th>\n",
       "      <th>location</th>\n",
       "      <th>size</th>\n",
       "      <th>society</th>\n",
       "      <th>total_sqft</th>\n",
       "      <th>bath</th>\n",
       "      <th>balcony</th>\n",
       "      <th>price</th>\n",
       "    </tr>\n",
       "  </thead>\n",
       "  <tbody>\n",
       "    <tr>\n",
       "      <th>0</th>\n",
       "      <td>Super built-up  Area</td>\n",
       "      <td>19-Dec</td>\n",
       "      <td>Electronic City Phase II</td>\n",
       "      <td>2 BHK</td>\n",
       "      <td>Coomee</td>\n",
       "      <td>1056</td>\n",
       "      <td>2.0</td>\n",
       "      <td>1.0</td>\n",
       "      <td>$39.07</td>\n",
       "    </tr>\n",
       "    <tr>\n",
       "      <th>1</th>\n",
       "      <td>Plot  Area</td>\n",
       "      <td>Ready To Move</td>\n",
       "      <td>Chikka Tirupathi</td>\n",
       "      <td>4 Bedroom</td>\n",
       "      <td>Theanmp</td>\n",
       "      <td>2600</td>\n",
       "      <td>5.0</td>\n",
       "      <td>3.0</td>\n",
       "      <td>$120.00</td>\n",
       "    </tr>\n",
       "    <tr>\n",
       "      <th>2</th>\n",
       "      <td>Built-up  Area</td>\n",
       "      <td>Ready To Move</td>\n",
       "      <td>Uttarahalli</td>\n",
       "      <td>3 BHK</td>\n",
       "      <td>NaN</td>\n",
       "      <td>1440</td>\n",
       "      <td>2.0</td>\n",
       "      <td>3.0</td>\n",
       "      <td>$62.00</td>\n",
       "    </tr>\n",
       "    <tr>\n",
       "      <th>3</th>\n",
       "      <td>Super built-up  Area</td>\n",
       "      <td>Ready To Move</td>\n",
       "      <td>Lingadheeranahalli</td>\n",
       "      <td>3 BHK</td>\n",
       "      <td>Soiewre</td>\n",
       "      <td>1521</td>\n",
       "      <td>3.0</td>\n",
       "      <td>1.0</td>\n",
       "      <td>$95.00</td>\n",
       "    </tr>\n",
       "    <tr>\n",
       "      <th>4</th>\n",
       "      <td>Super built-up  Area</td>\n",
       "      <td>Ready To Move</td>\n",
       "      <td>Kothanur</td>\n",
       "      <td>2 BHK</td>\n",
       "      <td>NaN</td>\n",
       "      <td>1200</td>\n",
       "      <td>2.0</td>\n",
       "      <td>1.0</td>\n",
       "      <td>$51.00</td>\n",
       "    </tr>\n",
       "  </tbody>\n",
       "</table>\n",
       "</div>"
      ],
      "text/plain": [
       "              area_type   availability                  location       size  \\\n",
       "0  Super built-up  Area         19-Dec  Electronic City Phase II      2 BHK   \n",
       "1            Plot  Area  Ready To Move          Chikka Tirupathi  4 Bedroom   \n",
       "2        Built-up  Area  Ready To Move               Uttarahalli      3 BHK   \n",
       "3  Super built-up  Area  Ready To Move        Lingadheeranahalli      3 BHK   \n",
       "4  Super built-up  Area  Ready To Move                  Kothanur      2 BHK   \n",
       "\n",
       "   society total_sqft  bath  balcony      price  \n",
       "0  Coomee        1056   2.0      1.0    $39.07   \n",
       "1  Theanmp       2600   5.0      3.0   $120.00   \n",
       "2      NaN       1440   2.0      3.0    $62.00   \n",
       "3  Soiewre       1521   3.0      1.0    $95.00   \n",
       "4      NaN       1200   2.0      1.0    $51.00   "
      ]
     },
     "execution_count": 38,
     "metadata": {},
     "output_type": "execute_result"
    },
    {
     "data": {
      "text/html": [
       "<div>\n",
       "<style scoped>\n",
       "    .dataframe tbody tr th:only-of-type {\n",
       "        vertical-align: middle;\n",
       "    }\n",
       "\n",
       "    .dataframe tbody tr th {\n",
       "        vertical-align: top;\n",
       "    }\n",
       "\n",
       "    .dataframe thead th {\n",
       "        text-align: right;\n",
       "    }\n",
       "</style>\n",
       "<table border=\"1\" class=\"dataframe\">\n",
       "  <thead>\n",
       "    <tr style=\"text-align: right;\">\n",
       "      <th></th>\n",
       "      <th>area_type</th>\n",
       "      <th>availability</th>\n",
       "      <th>location</th>\n",
       "      <th>size</th>\n",
       "      <th>society</th>\n",
       "      <th>total_sqft</th>\n",
       "      <th>bath</th>\n",
       "      <th>balcony</th>\n",
       "      <th>price</th>\n",
       "    </tr>\n",
       "  </thead>\n",
       "  <tbody>\n",
       "    <tr>\n",
       "      <th>0</th>\n",
       "      <td>Super built-up  Area</td>\n",
       "      <td>19-Dec</td>\n",
       "      <td>Electronic City Phase II</td>\n",
       "      <td>2 BHK</td>\n",
       "      <td>Coomee</td>\n",
       "      <td>1056</td>\n",
       "      <td>2.0</td>\n",
       "      <td>1.0</td>\n",
       "      <td>$39.07</td>\n",
       "    </tr>\n",
       "    <tr>\n",
       "      <th>1</th>\n",
       "      <td>Plot  Area</td>\n",
       "      <td>Ready To Move</td>\n",
       "      <td>Chikka Tirupathi</td>\n",
       "      <td>4 Bedroom</td>\n",
       "      <td>Theanmp</td>\n",
       "      <td>2600</td>\n",
       "      <td>5.0</td>\n",
       "      <td>3.0</td>\n",
       "      <td>$120.00</td>\n",
       "    </tr>\n",
       "    <tr>\n",
       "      <th>2</th>\n",
       "      <td>Built-up  Area</td>\n",
       "      <td>Ready To Move</td>\n",
       "      <td>Uttarahalli</td>\n",
       "      <td>3 BHK</td>\n",
       "      <td>NaN</td>\n",
       "      <td>1440</td>\n",
       "      <td>2.0</td>\n",
       "      <td>3.0</td>\n",
       "      <td>$62.00</td>\n",
       "    </tr>\n",
       "    <tr>\n",
       "      <th>3</th>\n",
       "      <td>Super built-up  Area</td>\n",
       "      <td>Ready To Move</td>\n",
       "      <td>Lingadheeranahalli</td>\n",
       "      <td>3 BHK</td>\n",
       "      <td>Soiewre</td>\n",
       "      <td>1521</td>\n",
       "      <td>3.0</td>\n",
       "      <td>1.0</td>\n",
       "      <td>$95.00</td>\n",
       "    </tr>\n",
       "    <tr>\n",
       "      <th>4</th>\n",
       "      <td>Super built-up  Area</td>\n",
       "      <td>Ready To Move</td>\n",
       "      <td>Kothanur</td>\n",
       "      <td>2 BHK</td>\n",
       "      <td>NaN</td>\n",
       "      <td>1200</td>\n",
       "      <td>2.0</td>\n",
       "      <td>1.0</td>\n",
       "      <td>$51.00</td>\n",
       "    </tr>\n",
       "  </tbody>\n",
       "</table>\n",
       "</div>"
      ],
      "text/plain": [
       "              area_type   availability                  location       size  \\\n",
       "0  Super built-up  Area         19-Dec  Electronic City Phase II      2 BHK   \n",
       "1            Plot  Area  Ready To Move          Chikka Tirupathi  4 Bedroom   \n",
       "2        Built-up  Area  Ready To Move               Uttarahalli      3 BHK   \n",
       "3  Super built-up  Area  Ready To Move        Lingadheeranahalli      3 BHK   \n",
       "4  Super built-up  Area  Ready To Move                  Kothanur      2 BHK   \n",
       "\n",
       "   society total_sqft  bath  balcony      price  \n",
       "0  Coomee        1056   2.0      1.0    $39.07   \n",
       "1  Theanmp       2600   5.0      3.0   $120.00   \n",
       "2      NaN       1440   2.0      3.0    $62.00   \n",
       "3  Soiewre       1521   3.0      1.0    $95.00   \n",
       "4      NaN       1200   2.0      1.0    $51.00   "
      ]
     },
     "execution_count": 38,
     "metadata": {},
     "output_type": "execute_result"
    }
   ],
   "source": [
    "# Load Dataset\n",
    "\n",
    "df = pd.read_csv('Bengaluru_House_Data.csv',encoding=\"ISO-8859-1\" )\n",
    "df.head()"
   ]
  },
  {
   "cell_type": "code",
   "execution_count": 39,
   "id": "97729609",
   "metadata": {
    "colab": {
     "base_uri": "https://localhost:8080/"
    },
    "id": "97729609",
    "outputId": "4dda06d1-5feb-4c9e-fe6d-c1d38e20c544",
    "scrolled": true
   },
   "outputs": [
    {
     "name": "stdout",
     "output_type": "stream",
     "text": [
      "(13320, 9)\n",
      "<class 'pandas.core.frame.DataFrame'>\n",
      "RangeIndex: 13320 entries, 0 to 13319\n",
      "Data columns (total 9 columns):\n",
      " #   Column        Non-Null Count  Dtype  \n",
      "---  ------        --------------  -----  \n",
      " 0   area_type     13320 non-null  object \n",
      " 1   availability  13320 non-null  object \n",
      " 2   location      13319 non-null  object \n",
      " 3   size          13304 non-null  object \n",
      " 4   society       7818 non-null   object \n",
      " 5   total_sqft    13320 non-null  object \n",
      " 6   bath          13247 non-null  float64\n",
      " 7   balcony       12711 non-null  float64\n",
      " 8   price         13320 non-null  object \n",
      "dtypes: float64(2), object(7)\n",
      "memory usage: 936.7+ KB\n",
      "(13320, 9)\n",
      "<class 'pandas.core.frame.DataFrame'>\n",
      "RangeIndex: 13320 entries, 0 to 13319\n",
      "Data columns (total 9 columns):\n",
      " #   Column        Non-Null Count  Dtype  \n",
      "---  ------        --------------  -----  \n",
      " 0   area_type     13320 non-null  object \n",
      " 1   availability  13320 non-null  object \n",
      " 2   location      13319 non-null  object \n",
      " 3   size          13304 non-null  object \n",
      " 4   society       7818 non-null   object \n",
      " 5   total_sqft    13320 non-null  object \n",
      " 6   bath          13247 non-null  float64\n",
      " 7   balcony       12711 non-null  float64\n",
      " 8   price         13320 non-null  object \n",
      "dtypes: float64(2), object(7)\n",
      "memory usage: 936.7+ KB\n"
     ]
    }
   ],
   "source": [
    "print(df.shape)\n",
    "df.info()"
   ]
  },
  {
   "cell_type": "markdown",
   "id": "QHwHP6W_wGjp",
   "metadata": {
    "id": "QHwHP6W_wGjp"
   },
   "source": [
    "# **Data Preprocessing**"
   ]
  },
  {
   "cell_type": "markdown",
   "id": "3DruP8nqweSJ",
   "metadata": {
    "id": "3DruP8nqweSJ"
   },
   "source": [
    "### *Check Duplicates*"
   ]
  },
  {
   "cell_type": "code",
   "execution_count": 40,
   "id": "f840e954",
   "metadata": {
    "colab": {
     "base_uri": "https://localhost:8080/"
    },
    "id": "f840e954",
    "outputId": "196745bd-6dca-4007-bcfb-5d9bab68f149"
   },
   "outputs": [
    {
     "data": {
      "text/plain": [
       "511"
      ]
     },
     "execution_count": 40,
     "metadata": {},
     "output_type": "execute_result"
    },
    {
     "data": {
      "text/plain": [
       "511"
      ]
     },
     "execution_count": 40,
     "metadata": {},
     "output_type": "execute_result"
    }
   ],
   "source": [
    "df.duplicated().sum()"
   ]
  },
  {
   "cell_type": "code",
   "execution_count": 41,
   "id": "a06ef0dc",
   "metadata": {
    "id": "a06ef0dc"
   },
   "outputs": [],
   "source": [
    "df.drop_duplicates(inplace=True)"
   ]
  },
  {
   "cell_type": "markdown",
   "id": "E5ZxUKY2wq7W",
   "metadata": {
    "id": "E5ZxUKY2wq7W"
   },
   "source": [
    "### *check nulls* -\n",
    "##### (Handling missing values)"
   ]
  },
  {
   "cell_type": "code",
   "execution_count": 42,
   "id": "bc54f002",
   "metadata": {
    "colab": {
     "base_uri": "https://localhost:8080/"
    },
    "id": "bc54f002",
    "outputId": "3cc881b5-c856-41bb-96c1-8b443f2cae66"
   },
   "outputs": [
    {
     "data": {
      "text/plain": [
       "area_type          0\n",
       "availability       0\n",
       "location           1\n",
       "size              16\n",
       "society         5335\n",
       "total_sqft         0\n",
       "bath              73\n",
       "balcony          605\n",
       "price              0\n",
       "dtype: int64"
      ]
     },
     "execution_count": 42,
     "metadata": {},
     "output_type": "execute_result"
    },
    {
     "data": {
      "text/plain": [
       "area_type          0\n",
       "availability       0\n",
       "location           1\n",
       "size              16\n",
       "society         5335\n",
       "total_sqft         0\n",
       "bath              73\n",
       "balcony          605\n",
       "price              0\n",
       "dtype: int64"
      ]
     },
     "execution_count": 42,
     "metadata": {},
     "output_type": "execute_result"
    }
   ],
   "source": [
    "df.isnull().sum()"
   ]
  },
  {
   "cell_type": "markdown",
   "id": "0e467f25",
   "metadata": {},
   "source": [
    "#####  society"
   ]
  },
  {
   "cell_type": "code",
   "execution_count": 43,
   "id": "d5d6b1cf",
   "metadata": {
    "colab": {
     "base_uri": "https://localhost:8080/"
    },
    "id": "d5d6b1cf",
    "outputId": "2b564538-b5d2-44c8-e987-ccf24a37e341"
   },
   "outputs": [
    {
     "data": {
      "text/plain": [
       "GrrvaGr    69\n",
       "PrarePa    63\n",
       "Sryalan    56\n",
       "GMown E    54\n",
       "Prtates    54\n",
       "Name: society, dtype: int64"
      ]
     },
     "execution_count": 43,
     "metadata": {},
     "output_type": "execute_result"
    },
    {
     "data": {
      "text/plain": [
       "GrrvaGr    69\n",
       "PrarePa    63\n",
       "Sryalan    56\n",
       "GMown E    54\n",
       "Prtates    54\n",
       "Name: society, dtype: int64"
      ]
     },
     "execution_count": 43,
     "metadata": {},
     "output_type": "execute_result"
    }
   ],
   "source": [
    "df['society'].value_counts().head()"
   ]
  },
  {
   "cell_type": "code",
   "execution_count": 44,
   "id": "e60590e9",
   "metadata": {
    "colab": {
     "base_uri": "https://localhost:8080/"
    },
    "id": "e60590e9",
    "outputId": "74a222c0-af14-449a-85cd-fc603f0345e9",
    "scrolled": true
   },
   "outputs": [
    {
     "data": {
      "text/plain": [
       "2688"
      ]
     },
     "execution_count": 44,
     "metadata": {},
     "output_type": "execute_result"
    },
    {
     "data": {
      "text/plain": [
       "2688"
      ]
     },
     "execution_count": 44,
     "metadata": {},
     "output_type": "execute_result"
    }
   ],
   "source": [
    "df['society'].nunique()"
   ]
  },
  {
   "cell_type": "code",
   "execution_count": 45,
   "id": "927b4656",
   "metadata": {
    "id": "927b4656"
   },
   "outputs": [],
   "source": [
    "# This step may induce bias as there is more tha 40% data is missing in society column can dropping data is out of question.\n",
    "\n",
    "df['society'].fillna('independent', inplace= True)\n",
    "df['society'] = df['society'].str.lower()"
   ]
  },
  {
   "cell_type": "markdown",
   "id": "300af294",
   "metadata": {},
   "source": [
    "##### Balcony"
   ]
  },
  {
   "cell_type": "code",
   "execution_count": 46,
   "id": "2231dc8e",
   "metadata": {
    "colab": {
     "base_uri": "https://localhost:8080/"
    },
    "id": "2231dc8e",
    "outputId": "c519fa2d-e9cd-449e-b205-b4d2425cb472"
   },
   "outputs": [
    {
     "data": {
      "text/plain": [
       "2.0    4851\n",
       "1.0    4712\n",
       "3.0    1631\n",
       "0.0    1010\n",
       "Name: balcony, dtype: int64"
      ]
     },
     "execution_count": 46,
     "metadata": {},
     "output_type": "execute_result"
    },
    {
     "data": {
      "text/plain": [
       "2.0    4851\n",
       "1.0    4712\n",
       "3.0    1631\n",
       "0.0    1010\n",
       "Name: balcony, dtype: int64"
      ]
     },
     "execution_count": 46,
     "metadata": {},
     "output_type": "execute_result"
    }
   ],
   "source": [
    "df['balcony'].value_counts()"
   ]
  },
  {
   "cell_type": "code",
   "execution_count": 47,
   "id": "aeab35a5",
   "metadata": {
    "colab": {
     "base_uri": "https://localhost:8080/"
    },
    "id": "aeab35a5",
    "outputId": "9e182343-e8e2-41b3-b518-5ba757cd019d"
   },
   "outputs": [],
   "source": [
    "# Assume missing values in balcony column indicates no balcony\n",
    "\n",
    "df['balcony'].fillna(0.0, inplace= True)\n",
    "df['balcony'] = df['balcony'].astype(int)"
   ]
  },
  {
   "cell_type": "markdown",
   "id": "19f5fc7a",
   "metadata": {},
   "source": [
    "##### Location"
   ]
  },
  {
   "cell_type": "code",
   "execution_count": 48,
   "id": "863326bf",
   "metadata": {},
   "outputs": [],
   "source": [
    "# Dropping null values in location column as there is only 1 null value\n",
    "\n",
    "df.dropna(subset=['location'], inplace=True)"
   ]
  },
  {
   "cell_type": "markdown",
   "id": "fd8c6415",
   "metadata": {},
   "source": [
    "##### Total_Sqft"
   ]
  },
  {
   "cell_type": "code",
   "execution_count": 49,
   "id": "SquTRN2tkOjk",
   "metadata": {
    "colab": {
     "base_uri": "https://localhost:8080/",
     "height": 423
    },
    "id": "SquTRN2tkOjk",
    "outputId": "41732bed-6472-4224-eb42-d1d5c7defd73"
   },
   "outputs": [
    {
     "data": {
      "text/plain": [
       "2563 - 2733    1\n",
       "2005           1\n",
       "605 - 624      1\n",
       "4260 - 4408    1\n",
       "4689           1\n",
       "Name: total_sqft, dtype: int64"
      ]
     },
     "execution_count": 49,
     "metadata": {},
     "output_type": "execute_result"
    },
    {
     "data": {
      "text/plain": [
       "2563 - 2733    1\n",
       "2005           1\n",
       "605 - 624      1\n",
       "4260 - 4408    1\n",
       "4689           1\n",
       "Name: total_sqft, dtype: int64"
      ]
     },
     "execution_count": 49,
     "metadata": {},
     "output_type": "execute_result"
    }
   ],
   "source": [
    "df['total_sqft'].value_counts().tail()"
   ]
  },
  {
   "cell_type": "code",
   "execution_count": 50,
   "id": "661d2543",
   "metadata": {},
   "outputs": [],
   "source": [
    "# Feature engineering\n",
    "\n",
    "def convert_total_sqft(sqft_value):\n",
    "    if '-' in sqft_value:  # Check if there is a range\n",
    "        start, end = map(float, sqft_value.split('-')) # Split the range and calculate the mean\n",
    "        sqft_value = (start + end) / 2 \n",
    "    elif 'Sq. Meter' in sqft_value:    # Convert square meter to square feet\n",
    "        sqft_value = float(sqft_value.replace('Sq. Meter', '')) * 10.7639\n",
    "    elif 'Sq. Yards' in sqft_value:  # Convert square yards to square feet\n",
    "        sqft_value = float(sqft_value.replace('Sq. Yards', '')) * 9\n",
    "    elif 'Acres' in sqft_value:  # Convert acres to square feet\n",
    "        sqft_value = float(sqft_value.replace('Acres', '')) * 43560\n",
    "    elif 'Guntha' in sqft_value:  # Convert Guntha to square feet\n",
    "        sqft_value = float(sqft_value.replace('Guntha', '')) * 1089\n",
    "    elif 'Cents' in sqft_value:  # Convert cents to square feet\n",
    "        sqft_value = float(sqft_value.replace('Cents', '')) * 435.6\n",
    "    elif 'Grounds' in sqft_value:  # Convert Grounds to square feet\n",
    "        sqft_value = float(sqft_value.replace('Grounds', '')) * 2400\n",
    "    elif 'Perch' in sqft_value:  # Convert Perch to square feet\n",
    "        sqft_value = float(sqft_value.replace('Perch', '')) * 272.25\n",
    "    elif sqft_value.isdigit():  # If no suffix, leave as is\n",
    "        sqft_value = float(sqft_value)\n",
    "    return sqft_value"
   ]
  },
  {
   "cell_type": "code",
   "execution_count": 51,
   "id": "721b18e4",
   "metadata": {
    "scrolled": true
   },
   "outputs": [],
   "source": [
    "# Apply the function to the total_sqft column\n",
    "df['total_sqft'] = df['total_sqft'].apply(convert_total_sqft)\n",
    "df['total_sqft'] = df['total_sqft'].astype(float)\n",
    "# df['total_sqft'] = df['total_sqft'].round().astype(int)"
   ]
  },
  {
   "cell_type": "markdown",
   "id": "993e6977",
   "metadata": {},
   "source": [
    "##### size"
   ]
  },
  {
   "cell_type": "code",
   "execution_count": 52,
   "id": "9788dc8c",
   "metadata": {},
   "outputs": [
    {
     "name": "stdout",
     "output_type": "stream",
     "text": [
      "                    Max         Min     Mode          Mean\n",
      "size                                                      \n",
      "1 BHK         10763.900     15.0000    500.0    693.453465\n",
      "1 Bedroom    231303.600     45.0000    600.0   5162.029038\n",
      "1 RK            905.000    296.0000    510.0    493.192308\n",
      "10 BHK        12000.000   4000.0000   4000.0   8000.000000\n",
      "10 Bedroom     7200.000    750.0000   1200.0   2646.333333\n",
      "11 BHK         6000.000   5000.0000   5000.0   5500.000000\n",
      "11 Bedroom     1200.000   1200.0000   1200.0   1200.000000\n",
      "12 Bedroom     2232.000   2232.0000   2232.0   2232.000000\n",
      "13 BHK         5425.000   5425.0000   5425.0   5425.000000\n",
      "14 BHK         1250.000   1250.0000   1250.0   1250.000000\n",
      "16 BHK        10000.000  10000.0000  10000.0  10000.000000\n",
      "18 Bedroom     1200.000   1200.0000   1200.0   1200.000000\n",
      "19 BHK         2000.000   2000.0000   2000.0   2000.000000\n",
      "2 BHK          9900.000    302.0000   1200.0   1135.882210\n",
      "2 Bedroom   1306800.000    276.0000   1200.0   5818.718217\n",
      "27 BHK         8000.000   8000.0000   8000.0   8000.000000\n",
      "3 BHK         35000.000    715.0000   1500.0   1671.094084\n",
      "3 Bedroom    653400.000     11.0000   1200.0   3600.881028\n",
      "4 BHK         36000.000    600.0000   3000.0   3167.732976\n",
      "4 Bedroom     30000.000      1.0000   1200.0   2409.194296\n",
      "43 Bedroom     2400.000   2400.0000   2400.0   2400.000000\n",
      "5 BHK          8321.000    258.3336   1200.0   3704.969044\n",
      "5 Bedroom     32722.256     24.0000   1200.0   2341.534385\n",
      "6 BHK         11338.000    499.0000   1200.0   2736.033333\n",
      "6 Bedroom     30400.000    510.0000   1200.0   1931.977853\n",
      "7 BHK         12000.000      5.0000   4000.0   3527.647059\n",
      "7 Bedroom      7500.000    600.0000   1200.0   2067.134146\n",
      "8 BHK          3300.000    800.0000    800.0   1810.000000\n",
      "8 Bedroom    653400.000    600.0000   1200.0   9684.416667\n",
      "9 BHK         42000.000   2400.0000   4600.0   9438.369050\n",
      "9 Bedroom   1123031.250    600.0000   1200.0  26250.353261\n",
      "                    Max         Min     Mode          Mean\n",
      "size                                                      \n",
      "1 BHK         10763.900     15.0000    500.0    693.453465\n",
      "1 Bedroom    231303.600     45.0000    600.0   5162.029038\n",
      "1 RK            905.000    296.0000    510.0    493.192308\n",
      "10 BHK        12000.000   4000.0000   4000.0   8000.000000\n",
      "10 Bedroom     7200.000    750.0000   1200.0   2646.333333\n",
      "11 BHK         6000.000   5000.0000   5000.0   5500.000000\n",
      "11 Bedroom     1200.000   1200.0000   1200.0   1200.000000\n",
      "12 Bedroom     2232.000   2232.0000   2232.0   2232.000000\n",
      "13 BHK         5425.000   5425.0000   5425.0   5425.000000\n",
      "14 BHK         1250.000   1250.0000   1250.0   1250.000000\n",
      "16 BHK        10000.000  10000.0000  10000.0  10000.000000\n",
      "18 Bedroom     1200.000   1200.0000   1200.0   1200.000000\n",
      "19 BHK         2000.000   2000.0000   2000.0   2000.000000\n",
      "2 BHK          9900.000    302.0000   1200.0   1135.882210\n",
      "2 Bedroom   1306800.000    276.0000   1200.0   5818.718217\n",
      "27 BHK         8000.000   8000.0000   8000.0   8000.000000\n",
      "3 BHK         35000.000    715.0000   1500.0   1671.094084\n",
      "3 Bedroom    653400.000     11.0000   1200.0   3600.881028\n",
      "4 BHK         36000.000    600.0000   3000.0   3167.732976\n",
      "4 Bedroom     30000.000      1.0000   1200.0   2409.194296\n",
      "43 Bedroom     2400.000   2400.0000   2400.0   2400.000000\n",
      "5 BHK          8321.000    258.3336   1200.0   3704.969044\n",
      "5 Bedroom     32722.256     24.0000   1200.0   2341.534385\n",
      "6 BHK         11338.000    499.0000   1200.0   2736.033333\n",
      "6 Bedroom     30400.000    510.0000   1200.0   1931.977853\n",
      "7 BHK         12000.000      5.0000   4000.0   3527.647059\n",
      "7 Bedroom      7500.000    600.0000   1200.0   2067.134146\n",
      "8 BHK          3300.000    800.0000    800.0   1810.000000\n",
      "8 Bedroom    653400.000    600.0000   1200.0   9684.416667\n",
      "9 BHK         42000.000   2400.0000   4600.0   9438.369050\n",
      "9 Bedroom   1123031.250    600.0000   1200.0  26250.353261\n"
     ]
    }
   ],
   "source": [
    "result = df.groupby('size')['total_sqft'].agg(['max', 'min', lambda x: x.mode().iloc[0], 'mean'])\n",
    "result.columns = ['Max', 'Min', 'Mode', 'Mean']\n",
    "print(result)"
   ]
  },
  {
   "cell_type": "code",
   "execution_count": 53,
   "id": "bec182db",
   "metadata": {},
   "outputs": [],
   "source": [
    "# Function to fill missing values in size column\n",
    "\n",
    "def fill_size_based_on_total_sqft(df):\n",
    "    # Define conditions for size based on total_sqft ranges\n",
    "    conditions = [\n",
    "        (df['total_sqft'] >= 500) & (df['total_sqft'] <= 900),\n",
    "        (df['total_sqft'] > 900) & (df['total_sqft'] <= 1400),\n",
    "        (df['total_sqft'] > 1400) & (df['total_sqft'] <= 2500),\n",
    "        (df['total_sqft'] > 2500) & (df['total_sqft'] <= 3200),\n",
    "        (df['total_sqft'] > 3200)\n",
    "    ]\n",
    "    # Define corresponding size values\n",
    "    sizes = ['1 BHK', '2 BHK', '3 BHK', '4 BHK', '5 BHK']\n",
    "\n",
    "    # Fill null values in size column based on conditions\n",
    "    df['size'] = np.where(df['size'].isnull(), np.select(conditions, sizes, default=df['size']), df['size'])\n",
    "    "
   ]
  },
  {
   "cell_type": "code",
   "execution_count": 54,
   "id": "e3c931c3",
   "metadata": {},
   "outputs": [],
   "source": [
    "fill_size_based_on_total_sqft(df)"
   ]
  },
  {
   "cell_type": "markdown",
   "id": "e9ae8069",
   "metadata": {},
   "source": [
    "##### bath"
   ]
  },
  {
   "cell_type": "code",
   "execution_count": 55,
   "id": "5e40f9a3",
   "metadata": {
    "scrolled": true
   },
   "outputs": [
    {
     "data": {
      "text/plain": [
       "2.0     6561\n",
       "3.0     3180\n",
       "4.0     1198\n",
       "1.0      764\n",
       "5.0      520\n",
       "6.0      271\n",
       "7.0      102\n",
       "8.0       64\n",
       "9.0       42\n",
       "10.0      13\n",
       "12.0       7\n",
       "13.0       3\n",
       "11.0       3\n",
       "16.0       2\n",
       "27.0       1\n",
       "40.0       1\n",
       "15.0       1\n",
       "14.0       1\n",
       "18.0       1\n",
       "Name: bath, dtype: int64"
      ]
     },
     "execution_count": 55,
     "metadata": {},
     "output_type": "execute_result"
    },
    {
     "data": {
      "text/plain": [
       "2.0     6561\n",
       "3.0     3180\n",
       "4.0     1198\n",
       "1.0      764\n",
       "5.0      520\n",
       "6.0      271\n",
       "7.0      102\n",
       "8.0       64\n",
       "9.0       42\n",
       "10.0      13\n",
       "12.0       7\n",
       "13.0       3\n",
       "11.0       3\n",
       "16.0       2\n",
       "27.0       1\n",
       "40.0       1\n",
       "15.0       1\n",
       "14.0       1\n",
       "18.0       1\n",
       "Name: bath, dtype: int64"
      ]
     },
     "execution_count": 55,
     "metadata": {},
     "output_type": "execute_result"
    }
   ],
   "source": [
    "df['bath'].value_counts()"
   ]
  },
  {
   "cell_type": "code",
   "execution_count": 56,
   "id": "Y_EE6oNpkPsw",
   "metadata": {
    "colab": {
     "base_uri": "https://localhost:8080/"
    },
    "id": "Y_EE6oNpkPsw",
    "outputId": "c26ccc01-e59f-4116-b5ab-aae000d68c99"
   },
   "outputs": [
    {
     "data": {
      "text/html": [
       "<div>\n",
       "<style scoped>\n",
       "    .dataframe tbody tr th:only-of-type {\n",
       "        vertical-align: middle;\n",
       "    }\n",
       "\n",
       "    .dataframe tbody tr th {\n",
       "        vertical-align: top;\n",
       "    }\n",
       "\n",
       "    .dataframe thead th {\n",
       "        text-align: right;\n",
       "    }\n",
       "</style>\n",
       "<table border=\"1\" class=\"dataframe\">\n",
       "  <thead>\n",
       "    <tr style=\"text-align: right;\">\n",
       "      <th></th>\n",
       "      <th>Max</th>\n",
       "      <th>Min</th>\n",
       "      <th>Mode</th>\n",
       "      <th>Mean</th>\n",
       "    </tr>\n",
       "    <tr>\n",
       "      <th>bath</th>\n",
       "      <th></th>\n",
       "      <th></th>\n",
       "      <th></th>\n",
       "      <th></th>\n",
       "    </tr>\n",
       "  </thead>\n",
       "  <tbody>\n",
       "    <tr>\n",
       "      <th>1.0</th>\n",
       "      <td>231303.600</td>\n",
       "      <td>15.0000</td>\n",
       "      <td>600.0</td>\n",
       "      <td>1331.925852</td>\n",
       "    </tr>\n",
       "    <tr>\n",
       "      <th>2.0</th>\n",
       "      <td>1306800.000</td>\n",
       "      <td>24.0000</td>\n",
       "      <td>1200.0</td>\n",
       "      <td>1475.191305</td>\n",
       "    </tr>\n",
       "    <tr>\n",
       "      <th>3.0</th>\n",
       "      <td>653400.000</td>\n",
       "      <td>11.0000</td>\n",
       "      <td>1200.0</td>\n",
       "      <td>1972.569412</td>\n",
       "    </tr>\n",
       "    <tr>\n",
       "      <th>4.0</th>\n",
       "      <td>36000.000</td>\n",
       "      <td>1.0000</td>\n",
       "      <td>1200.0</td>\n",
       "      <td>2509.057967</td>\n",
       "    </tr>\n",
       "    <tr>\n",
       "      <th>5.0</th>\n",
       "      <td>32722.256</td>\n",
       "      <td>258.3336</td>\n",
       "      <td>1200.0</td>\n",
       "      <td>2838.395134</td>\n",
       "    </tr>\n",
       "  </tbody>\n",
       "</table>\n",
       "</div>"
      ],
      "text/plain": [
       "              Max       Min    Mode         Mean\n",
       "bath                                            \n",
       "1.0    231303.600   15.0000   600.0  1331.925852\n",
       "2.0   1306800.000   24.0000  1200.0  1475.191305\n",
       "3.0    653400.000   11.0000  1200.0  1972.569412\n",
       "4.0     36000.000    1.0000  1200.0  2509.057967\n",
       "5.0     32722.256  258.3336  1200.0  2838.395134"
      ]
     },
     "execution_count": 56,
     "metadata": {},
     "output_type": "execute_result"
    },
    {
     "data": {
      "text/html": [
       "<div>\n",
       "<style scoped>\n",
       "    .dataframe tbody tr th:only-of-type {\n",
       "        vertical-align: middle;\n",
       "    }\n",
       "\n",
       "    .dataframe tbody tr th {\n",
       "        vertical-align: top;\n",
       "    }\n",
       "\n",
       "    .dataframe thead th {\n",
       "        text-align: right;\n",
       "    }\n",
       "</style>\n",
       "<table border=\"1\" class=\"dataframe\">\n",
       "  <thead>\n",
       "    <tr style=\"text-align: right;\">\n",
       "      <th></th>\n",
       "      <th>Max</th>\n",
       "      <th>Min</th>\n",
       "      <th>Mode</th>\n",
       "      <th>Mean</th>\n",
       "    </tr>\n",
       "    <tr>\n",
       "      <th>bath</th>\n",
       "      <th></th>\n",
       "      <th></th>\n",
       "      <th></th>\n",
       "      <th></th>\n",
       "    </tr>\n",
       "  </thead>\n",
       "  <tbody>\n",
       "    <tr>\n",
       "      <th>1.0</th>\n",
       "      <td>231303.600</td>\n",
       "      <td>15.0000</td>\n",
       "      <td>600.0</td>\n",
       "      <td>1331.925852</td>\n",
       "    </tr>\n",
       "    <tr>\n",
       "      <th>2.0</th>\n",
       "      <td>1306800.000</td>\n",
       "      <td>24.0000</td>\n",
       "      <td>1200.0</td>\n",
       "      <td>1475.191305</td>\n",
       "    </tr>\n",
       "    <tr>\n",
       "      <th>3.0</th>\n",
       "      <td>653400.000</td>\n",
       "      <td>11.0000</td>\n",
       "      <td>1200.0</td>\n",
       "      <td>1972.569412</td>\n",
       "    </tr>\n",
       "    <tr>\n",
       "      <th>4.0</th>\n",
       "      <td>36000.000</td>\n",
       "      <td>1.0000</td>\n",
       "      <td>1200.0</td>\n",
       "      <td>2509.057967</td>\n",
       "    </tr>\n",
       "    <tr>\n",
       "      <th>5.0</th>\n",
       "      <td>32722.256</td>\n",
       "      <td>258.3336</td>\n",
       "      <td>1200.0</td>\n",
       "      <td>2838.395134</td>\n",
       "    </tr>\n",
       "  </tbody>\n",
       "</table>\n",
       "</div>"
      ],
      "text/plain": [
       "              Max       Min    Mode         Mean\n",
       "bath                                            \n",
       "1.0    231303.600   15.0000   600.0  1331.925852\n",
       "2.0   1306800.000   24.0000  1200.0  1475.191305\n",
       "3.0    653400.000   11.0000  1200.0  1972.569412\n",
       "4.0     36000.000    1.0000  1200.0  2509.057967\n",
       "5.0     32722.256  258.3336  1200.0  2838.395134"
      ]
     },
     "execution_count": 56,
     "metadata": {},
     "output_type": "execute_result"
    }
   ],
   "source": [
    "result = df.groupby('bath')['total_sqft'].agg(['max', 'min', lambda x: x.mode().iloc[0], 'mean'])\n",
    "result.columns = ['Max', 'Min', 'Mode', 'Mean']\n",
    "result.head()"
   ]
  },
  {
   "cell_type": "code",
   "execution_count": 57,
   "id": "u8gHf8vrkVIZ",
   "metadata": {
    "id": "u8gHf8vrkVIZ"
   },
   "outputs": [],
   "source": [
    "# Function to fill missing values in bath column\n",
    "\n",
    "def fill_bath_based_on_total_sqft(df):\n",
    "    conditions = [\n",
    "        (df['total_sqft'] >= 500) & (df['total_sqft'] <= 1200),\n",
    "        (df['total_sqft'] > 1200) & (df['total_sqft'] <= 1400),\n",
    "        (df['total_sqft'] > 1400) & (df['total_sqft'] <= 2000),\n",
    "        (df['total_sqft'] > 2000) & (df['total_sqft'] <= 2800),\n",
    "        (df['total_sqft'] > 2800)\n",
    "    ]\n",
    "    bath = [1, 2, 3, 4, 5]\n",
    "    df['bath'] = np.where(df['bath'].isnull(), \n",
    "                np.select(conditions, bath, default=df['bath']), df['bath'])\n",
    "    "
   ]
  },
  {
   "cell_type": "code",
   "execution_count": 58,
   "id": "d3f4cff4",
   "metadata": {},
   "outputs": [],
   "source": [
    "fill_bath_based_on_total_sqft(df)\n",
    "df['bath']=df['bath'].astype(int)"
   ]
  },
  {
   "cell_type": "markdown",
   "id": "626092b6",
   "metadata": {},
   "source": [
    "- Now data has been cleaned of null values."
   ]
  },
  {
   "cell_type": "code",
   "execution_count": 59,
   "id": "7zs3xpPmyhGQ",
   "metadata": {
    "id": "7zs3xpPmyhGQ"
   },
   "outputs": [
    {
     "name": "stdout",
     "output_type": "stream",
     "text": [
      "<class 'pandas.core.frame.DataFrame'>\n",
      "Int64Index: 12808 entries, 0 to 13318\n",
      "Data columns (total 9 columns):\n",
      " #   Column        Non-Null Count  Dtype  \n",
      "---  ------        --------------  -----  \n",
      " 0   area_type     12808 non-null  object \n",
      " 1   availability  12808 non-null  object \n",
      " 2   location      12808 non-null  object \n",
      " 3   size          12808 non-null  object \n",
      " 4   society       12808 non-null  object \n",
      " 5   total_sqft    12808 non-null  float64\n",
      " 6   bath          12808 non-null  int32  \n",
      " 7   balcony       12808 non-null  int32  \n",
      " 8   price         12808 non-null  object \n",
      "dtypes: float64(1), int32(2), object(6)\n",
      "memory usage: 900.6+ KB\n",
      "<class 'pandas.core.frame.DataFrame'>\n",
      "Int64Index: 12808 entries, 0 to 13318\n",
      "Data columns (total 9 columns):\n",
      " #   Column        Non-Null Count  Dtype  \n",
      "---  ------        --------------  -----  \n",
      " 0   area_type     12808 non-null  object \n",
      " 1   availability  12808 non-null  object \n",
      " 2   location      12808 non-null  object \n",
      " 3   size          12808 non-null  object \n",
      " 4   society       12808 non-null  object \n",
      " 5   total_sqft    12808 non-null  float64\n",
      " 6   bath          12808 non-null  int32  \n",
      " 7   balcony       12808 non-null  int32  \n",
      " 8   price         12808 non-null  object \n",
      "dtypes: float64(1), int32(2), object(6)\n",
      "memory usage: 900.6+ KB\n"
     ]
    }
   ],
   "source": [
    "df.info()"
   ]
  },
  {
   "cell_type": "markdown",
   "id": "77e09732",
   "metadata": {},
   "source": [
    "##### Price"
   ]
  },
  {
   "cell_type": "code",
   "execution_count": 60,
   "id": "dda27400",
   "metadata": {
    "scrolled": true
   },
   "outputs": [
    {
     "data": {
      "text/plain": [
       "75       293\n",
       "65       284\n",
       "55       260\n",
       "60       255\n",
       "45       228\n",
       "        ... \n",
       "65.3       1\n",
       "97.78      1\n",
       "51.19      1\n",
       "39.97      1\n",
       "488        1\n",
       "Name: price, Length: 2205, dtype: int64"
      ]
     },
     "execution_count": 60,
     "metadata": {},
     "output_type": "execute_result"
    },
    {
     "data": {
      "text/plain": [
       "75       293\n",
       "65       284\n",
       "55       260\n",
       "60       255\n",
       "45       228\n",
       "        ... \n",
       "65.3       1\n",
       "97.78      1\n",
       "51.19      1\n",
       "39.97      1\n",
       "488        1\n",
       "Name: price, Length: 2205, dtype: int64"
      ]
     },
     "execution_count": 60,
     "metadata": {},
     "output_type": "execute_result"
    }
   ],
   "source": [
    "df['price'].value_counts()"
   ]
  },
  {
   "cell_type": "code",
   "execution_count": 61,
   "id": "f9d1bff1",
   "metadata": {},
   "outputs": [],
   "source": [
    "# Function to clean price column of punctuation and calc. mean if there's a range\n",
    "\n",
    "def clean_price(df):\n",
    "    df[\"price\"] = df[\"price\"].str.replace(r\"[^\\d\\-+\\.]\", \"\", regex=True).apply(lambda x: float(x.split('-')[0]) if '-' not in x else (float(x.split('-')[0]) + float(x.split('-')[1])) / 2).round(2)\n",
    "    return df[\"price\"]"
   ]
  },
  {
   "cell_type": "code",
   "execution_count": 62,
   "id": "170f7e0a",
   "metadata": {},
   "outputs": [
    {
     "data": {
      "text/plain": [
       "0         39.07\n",
       "1        120.00\n",
       "2         62.00\n",
       "3         95.00\n",
       "4         51.00\n",
       "          ...  \n",
       "13314    112.00\n",
       "13315    231.00\n",
       "13316    400.00\n",
       "13317     60.00\n",
       "13318    488.00\n",
       "Name: price, Length: 12808, dtype: float64"
      ]
     },
     "execution_count": 62,
     "metadata": {},
     "output_type": "execute_result"
    },
    {
     "data": {
      "text/plain": [
       "0         39.07\n",
       "1        120.00\n",
       "2         62.00\n",
       "3         95.00\n",
       "4         51.00\n",
       "          ...  \n",
       "13314    112.00\n",
       "13315    231.00\n",
       "13316    400.00\n",
       "13317     60.00\n",
       "13318    488.00\n",
       "Name: price, Length: 12808, dtype: float64"
      ]
     },
     "execution_count": 62,
     "metadata": {},
     "output_type": "execute_result"
    }
   ],
   "source": [
    "clean_price(df)"
   ]
  },
  {
   "cell_type": "code",
   "execution_count": 63,
   "id": "8184487a",
   "metadata": {
    "scrolled": true
   },
   "outputs": [
    {
     "name": "stdout",
     "output_type": "stream",
     "text": [
      "<class 'pandas.core.frame.DataFrame'>\n",
      "Int64Index: 12808 entries, 0 to 13318\n",
      "Data columns (total 9 columns):\n",
      " #   Column        Non-Null Count  Dtype  \n",
      "---  ------        --------------  -----  \n",
      " 0   area_type     12808 non-null  object \n",
      " 1   availability  12808 non-null  object \n",
      " 2   location      12808 non-null  object \n",
      " 3   size          12808 non-null  object \n",
      " 4   society       12808 non-null  object \n",
      " 5   total_sqft    12808 non-null  float64\n",
      " 6   bath          12808 non-null  int32  \n",
      " 7   balcony       12808 non-null  int32  \n",
      " 8   price         12808 non-null  float64\n",
      "dtypes: float64(2), int32(2), object(5)\n",
      "memory usage: 900.6+ KB\n",
      "<class 'pandas.core.frame.DataFrame'>\n",
      "Int64Index: 12808 entries, 0 to 13318\n",
      "Data columns (total 9 columns):\n",
      " #   Column        Non-Null Count  Dtype  \n",
      "---  ------        --------------  -----  \n",
      " 0   area_type     12808 non-null  object \n",
      " 1   availability  12808 non-null  object \n",
      " 2   location      12808 non-null  object \n",
      " 3   size          12808 non-null  object \n",
      " 4   society       12808 non-null  object \n",
      " 5   total_sqft    12808 non-null  float64\n",
      " 6   bath          12808 non-null  int32  \n",
      " 7   balcony       12808 non-null  int32  \n",
      " 8   price         12808 non-null  float64\n",
      "dtypes: float64(2), int32(2), object(5)\n",
      "memory usage: 900.6+ KB\n"
     ]
    }
   ],
   "source": [
    "df.info()"
   ]
  },
  {
   "cell_type": "code",
   "execution_count": 64,
   "id": "fd2869ce",
   "metadata": {},
   "outputs": [
    {
     "data": {
      "text/plain": [
       "Ready To Move    10185\n",
       "18-May             292\n",
       "18-Dec             285\n",
       "18-Apr             269\n",
       "18-Aug             188\n",
       "                 ...  \n",
       "15-Aug               1\n",
       "17-Jan               1\n",
       "16-Nov               1\n",
       "16-Jan               1\n",
       "14-Jul               1\n",
       "Name: availability, Length: 81, dtype: int64"
      ]
     },
     "execution_count": 64,
     "metadata": {},
     "output_type": "execute_result"
    },
    {
     "data": {
      "text/plain": [
       "Ready To Move    10185\n",
       "18-May             292\n",
       "18-Dec             285\n",
       "18-Apr             269\n",
       "18-Aug             188\n",
       "                 ...  \n",
       "15-Aug               1\n",
       "17-Jan               1\n",
       "16-Nov               1\n",
       "16-Jan               1\n",
       "14-Jul               1\n",
       "Name: availability, Length: 81, dtype: int64"
      ]
     },
     "execution_count": 64,
     "metadata": {},
     "output_type": "execute_result"
    }
   ],
   "source": [
    "df['availability'].value_counts()"
   ]
  },
  {
   "cell_type": "code",
   "execution_count": 65,
   "id": "d2ea8bde",
   "metadata": {},
   "outputs": [],
   "source": [
    "df['availability'] = df['availability'].replace('Immediate Possession', 'Ready To Move')"
   ]
  },
  {
   "cell_type": "code",
   "execution_count": 66,
   "id": "0ba40a6a",
   "metadata": {},
   "outputs": [
    {
     "data": {
      "text/html": [
       "<div>\n",
       "<style scoped>\n",
       "    .dataframe tbody tr th:only-of-type {\n",
       "        vertical-align: middle;\n",
       "    }\n",
       "\n",
       "    .dataframe tbody tr th {\n",
       "        vertical-align: top;\n",
       "    }\n",
       "\n",
       "    .dataframe thead th {\n",
       "        text-align: right;\n",
       "    }\n",
       "</style>\n",
       "<table border=\"1\" class=\"dataframe\">\n",
       "  <thead>\n",
       "    <tr style=\"text-align: right;\">\n",
       "      <th></th>\n",
       "      <th>area_type</th>\n",
       "      <th>availability</th>\n",
       "      <th>location</th>\n",
       "      <th>size</th>\n",
       "      <th>society</th>\n",
       "      <th>total_sqft</th>\n",
       "      <th>bath</th>\n",
       "      <th>balcony</th>\n",
       "      <th>price</th>\n",
       "    </tr>\n",
       "  </thead>\n",
       "  <tbody>\n",
       "    <tr>\n",
       "      <th>0</th>\n",
       "      <td>Super built-up  Area</td>\n",
       "      <td>19-Dec</td>\n",
       "      <td>Electronic City Phase II</td>\n",
       "      <td>2 BHK</td>\n",
       "      <td>coomee</td>\n",
       "      <td>1056.0</td>\n",
       "      <td>2</td>\n",
       "      <td>1</td>\n",
       "      <td>39.07</td>\n",
       "    </tr>\n",
       "    <tr>\n",
       "      <th>1</th>\n",
       "      <td>Plot  Area</td>\n",
       "      <td>Ready To Move</td>\n",
       "      <td>Chikka Tirupathi</td>\n",
       "      <td>4 Bedroom</td>\n",
       "      <td>theanmp</td>\n",
       "      <td>2600.0</td>\n",
       "      <td>5</td>\n",
       "      <td>3</td>\n",
       "      <td>120.00</td>\n",
       "    </tr>\n",
       "    <tr>\n",
       "      <th>2</th>\n",
       "      <td>Built-up  Area</td>\n",
       "      <td>Ready To Move</td>\n",
       "      <td>Uttarahalli</td>\n",
       "      <td>3 BHK</td>\n",
       "      <td>independent</td>\n",
       "      <td>1440.0</td>\n",
       "      <td>2</td>\n",
       "      <td>3</td>\n",
       "      <td>62.00</td>\n",
       "    </tr>\n",
       "    <tr>\n",
       "      <th>3</th>\n",
       "      <td>Super built-up  Area</td>\n",
       "      <td>Ready To Move</td>\n",
       "      <td>Lingadheeranahalli</td>\n",
       "      <td>3 BHK</td>\n",
       "      <td>soiewre</td>\n",
       "      <td>1521.0</td>\n",
       "      <td>3</td>\n",
       "      <td>1</td>\n",
       "      <td>95.00</td>\n",
       "    </tr>\n",
       "    <tr>\n",
       "      <th>4</th>\n",
       "      <td>Super built-up  Area</td>\n",
       "      <td>Ready To Move</td>\n",
       "      <td>Kothanur</td>\n",
       "      <td>2 BHK</td>\n",
       "      <td>independent</td>\n",
       "      <td>1200.0</td>\n",
       "      <td>2</td>\n",
       "      <td>1</td>\n",
       "      <td>51.00</td>\n",
       "    </tr>\n",
       "  </tbody>\n",
       "</table>\n",
       "</div>"
      ],
      "text/plain": [
       "              area_type   availability                  location       size  \\\n",
       "0  Super built-up  Area         19-Dec  Electronic City Phase II      2 BHK   \n",
       "1            Plot  Area  Ready To Move          Chikka Tirupathi  4 Bedroom   \n",
       "2        Built-up  Area  Ready To Move               Uttarahalli      3 BHK   \n",
       "3  Super built-up  Area  Ready To Move        Lingadheeranahalli      3 BHK   \n",
       "4  Super built-up  Area  Ready To Move                  Kothanur      2 BHK   \n",
       "\n",
       "       society  total_sqft  bath  balcony   price  \n",
       "0      coomee       1056.0     2        1   39.07  \n",
       "1      theanmp      2600.0     5        3  120.00  \n",
       "2  independent      1440.0     2        3   62.00  \n",
       "3      soiewre      1521.0     3        1   95.00  \n",
       "4  independent      1200.0     2        1   51.00  "
      ]
     },
     "execution_count": 66,
     "metadata": {},
     "output_type": "execute_result"
    },
    {
     "data": {
      "text/html": [
       "<div>\n",
       "<style scoped>\n",
       "    .dataframe tbody tr th:only-of-type {\n",
       "        vertical-align: middle;\n",
       "    }\n",
       "\n",
       "    .dataframe tbody tr th {\n",
       "        vertical-align: top;\n",
       "    }\n",
       "\n",
       "    .dataframe thead th {\n",
       "        text-align: right;\n",
       "    }\n",
       "</style>\n",
       "<table border=\"1\" class=\"dataframe\">\n",
       "  <thead>\n",
       "    <tr style=\"text-align: right;\">\n",
       "      <th></th>\n",
       "      <th>area_type</th>\n",
       "      <th>availability</th>\n",
       "      <th>location</th>\n",
       "      <th>size</th>\n",
       "      <th>society</th>\n",
       "      <th>total_sqft</th>\n",
       "      <th>bath</th>\n",
       "      <th>balcony</th>\n",
       "      <th>price</th>\n",
       "    </tr>\n",
       "  </thead>\n",
       "  <tbody>\n",
       "    <tr>\n",
       "      <th>0</th>\n",
       "      <td>Super built-up  Area</td>\n",
       "      <td>19-Dec</td>\n",
       "      <td>Electronic City Phase II</td>\n",
       "      <td>2 BHK</td>\n",
       "      <td>coomee</td>\n",
       "      <td>1056.0</td>\n",
       "      <td>2</td>\n",
       "      <td>1</td>\n",
       "      <td>39.07</td>\n",
       "    </tr>\n",
       "    <tr>\n",
       "      <th>1</th>\n",
       "      <td>Plot  Area</td>\n",
       "      <td>Ready To Move</td>\n",
       "      <td>Chikka Tirupathi</td>\n",
       "      <td>4 Bedroom</td>\n",
       "      <td>theanmp</td>\n",
       "      <td>2600.0</td>\n",
       "      <td>5</td>\n",
       "      <td>3</td>\n",
       "      <td>120.00</td>\n",
       "    </tr>\n",
       "    <tr>\n",
       "      <th>2</th>\n",
       "      <td>Built-up  Area</td>\n",
       "      <td>Ready To Move</td>\n",
       "      <td>Uttarahalli</td>\n",
       "      <td>3 BHK</td>\n",
       "      <td>independent</td>\n",
       "      <td>1440.0</td>\n",
       "      <td>2</td>\n",
       "      <td>3</td>\n",
       "      <td>62.00</td>\n",
       "    </tr>\n",
       "    <tr>\n",
       "      <th>3</th>\n",
       "      <td>Super built-up  Area</td>\n",
       "      <td>Ready To Move</td>\n",
       "      <td>Lingadheeranahalli</td>\n",
       "      <td>3 BHK</td>\n",
       "      <td>soiewre</td>\n",
       "      <td>1521.0</td>\n",
       "      <td>3</td>\n",
       "      <td>1</td>\n",
       "      <td>95.00</td>\n",
       "    </tr>\n",
       "    <tr>\n",
       "      <th>4</th>\n",
       "      <td>Super built-up  Area</td>\n",
       "      <td>Ready To Move</td>\n",
       "      <td>Kothanur</td>\n",
       "      <td>2 BHK</td>\n",
       "      <td>independent</td>\n",
       "      <td>1200.0</td>\n",
       "      <td>2</td>\n",
       "      <td>1</td>\n",
       "      <td>51.00</td>\n",
       "    </tr>\n",
       "  </tbody>\n",
       "</table>\n",
       "</div>"
      ],
      "text/plain": [
       "              area_type   availability                  location       size  \\\n",
       "0  Super built-up  Area         19-Dec  Electronic City Phase II      2 BHK   \n",
       "1            Plot  Area  Ready To Move          Chikka Tirupathi  4 Bedroom   \n",
       "2        Built-up  Area  Ready To Move               Uttarahalli      3 BHK   \n",
       "3  Super built-up  Area  Ready To Move        Lingadheeranahalli      3 BHK   \n",
       "4  Super built-up  Area  Ready To Move                  Kothanur      2 BHK   \n",
       "\n",
       "       society  total_sqft  bath  balcony   price  \n",
       "0      coomee       1056.0     2        1   39.07  \n",
       "1      theanmp      2600.0     5        3  120.00  \n",
       "2  independent      1440.0     2        3   62.00  \n",
       "3      soiewre      1521.0     3        1   95.00  \n",
       "4  independent      1200.0     2        1   51.00  "
      ]
     },
     "execution_count": 66,
     "metadata": {},
     "output_type": "execute_result"
    }
   ],
   "source": [
    "df.head()"
   ]
  },
  {
   "cell_type": "code",
   "execution_count": 67,
   "id": "c7aef902",
   "metadata": {},
   "outputs": [
    {
     "name": "stdout",
     "output_type": "stream",
     "text": [
      "<class 'pandas.core.frame.DataFrame'>\n",
      "Int64Index: 12808 entries, 0 to 13318\n",
      "Data columns (total 9 columns):\n",
      " #   Column        Non-Null Count  Dtype  \n",
      "---  ------        --------------  -----  \n",
      " 0   area_type     12808 non-null  object \n",
      " 1   availability  12808 non-null  object \n",
      " 2   location      12808 non-null  object \n",
      " 3   size          12808 non-null  object \n",
      " 4   society       12808 non-null  object \n",
      " 5   total_sqft    12808 non-null  float64\n",
      " 6   bath          12808 non-null  int32  \n",
      " 7   balcony       12808 non-null  int32  \n",
      " 8   price         12808 non-null  float64\n",
      "dtypes: float64(2), int32(2), object(5)\n",
      "memory usage: 900.6+ KB\n",
      "<class 'pandas.core.frame.DataFrame'>\n",
      "Int64Index: 12808 entries, 0 to 13318\n",
      "Data columns (total 9 columns):\n",
      " #   Column        Non-Null Count  Dtype  \n",
      "---  ------        --------------  -----  \n",
      " 0   area_type     12808 non-null  object \n",
      " 1   availability  12808 non-null  object \n",
      " 2   location      12808 non-null  object \n",
      " 3   size          12808 non-null  object \n",
      " 4   society       12808 non-null  object \n",
      " 5   total_sqft    12808 non-null  float64\n",
      " 6   bath          12808 non-null  int32  \n",
      " 7   balcony       12808 non-null  int32  \n",
      " 8   price         12808 non-null  float64\n",
      "dtypes: float64(2), int32(2), object(5)\n",
      "memory usage: 900.6+ KB\n"
     ]
    }
   ],
   "source": [
    "df.info()"
   ]
  },
  {
   "cell_type": "code",
   "execution_count": 68,
   "id": "cd7a3522",
   "metadata": {},
   "outputs": [
    {
     "data": {
      "text/html": [
       "<div>\n",
       "<style scoped>\n",
       "    .dataframe tbody tr th:only-of-type {\n",
       "        vertical-align: middle;\n",
       "    }\n",
       "\n",
       "    .dataframe tbody tr th {\n",
       "        vertical-align: top;\n",
       "    }\n",
       "\n",
       "    .dataframe thead th {\n",
       "        text-align: right;\n",
       "    }\n",
       "</style>\n",
       "<table border=\"1\" class=\"dataframe\">\n",
       "  <thead>\n",
       "    <tr style=\"text-align: right;\">\n",
       "      <th></th>\n",
       "      <th>area_type</th>\n",
       "      <th>availability</th>\n",
       "      <th>location</th>\n",
       "      <th>society</th>\n",
       "      <th>total_sqft</th>\n",
       "      <th>bath</th>\n",
       "      <th>balcony</th>\n",
       "      <th>price</th>\n",
       "      <th>house_size</th>\n",
       "      <th>house_type</th>\n",
       "    </tr>\n",
       "  </thead>\n",
       "  <tbody>\n",
       "    <tr>\n",
       "      <th>0</th>\n",
       "      <td>Super built-up  Area</td>\n",
       "      <td>19-Dec</td>\n",
       "      <td>Electronic City Phase II</td>\n",
       "      <td>coomee</td>\n",
       "      <td>1056.0</td>\n",
       "      <td>2</td>\n",
       "      <td>1</td>\n",
       "      <td>39.07</td>\n",
       "      <td>2</td>\n",
       "      <td>0</td>\n",
       "    </tr>\n",
       "    <tr>\n",
       "      <th>1</th>\n",
       "      <td>Plot  Area</td>\n",
       "      <td>Ready To Move</td>\n",
       "      <td>Chikka Tirupathi</td>\n",
       "      <td>theanmp</td>\n",
       "      <td>2600.0</td>\n",
       "      <td>5</td>\n",
       "      <td>3</td>\n",
       "      <td>120.00</td>\n",
       "      <td>4</td>\n",
       "      <td>1</td>\n",
       "    </tr>\n",
       "    <tr>\n",
       "      <th>2</th>\n",
       "      <td>Built-up  Area</td>\n",
       "      <td>Ready To Move</td>\n",
       "      <td>Uttarahalli</td>\n",
       "      <td>independent</td>\n",
       "      <td>1440.0</td>\n",
       "      <td>2</td>\n",
       "      <td>3</td>\n",
       "      <td>62.00</td>\n",
       "      <td>3</td>\n",
       "      <td>0</td>\n",
       "    </tr>\n",
       "    <tr>\n",
       "      <th>3</th>\n",
       "      <td>Super built-up  Area</td>\n",
       "      <td>Ready To Move</td>\n",
       "      <td>Lingadheeranahalli</td>\n",
       "      <td>soiewre</td>\n",
       "      <td>1521.0</td>\n",
       "      <td>3</td>\n",
       "      <td>1</td>\n",
       "      <td>95.00</td>\n",
       "      <td>3</td>\n",
       "      <td>0</td>\n",
       "    </tr>\n",
       "    <tr>\n",
       "      <th>4</th>\n",
       "      <td>Super built-up  Area</td>\n",
       "      <td>Ready To Move</td>\n",
       "      <td>Kothanur</td>\n",
       "      <td>independent</td>\n",
       "      <td>1200.0</td>\n",
       "      <td>2</td>\n",
       "      <td>1</td>\n",
       "      <td>51.00</td>\n",
       "      <td>2</td>\n",
       "      <td>0</td>\n",
       "    </tr>\n",
       "  </tbody>\n",
       "</table>\n",
       "</div>"
      ],
      "text/plain": [
       "              area_type   availability                  location      society  \\\n",
       "0  Super built-up  Area         19-Dec  Electronic City Phase II      coomee    \n",
       "1            Plot  Area  Ready To Move          Chikka Tirupathi      theanmp   \n",
       "2        Built-up  Area  Ready To Move               Uttarahalli  independent   \n",
       "3  Super built-up  Area  Ready To Move        Lingadheeranahalli      soiewre   \n",
       "4  Super built-up  Area  Ready To Move                  Kothanur  independent   \n",
       "\n",
       "   total_sqft  bath  balcony   price  house_size  house_type  \n",
       "0      1056.0     2        1   39.07           2           0  \n",
       "1      2600.0     5        3  120.00           4           1  \n",
       "2      1440.0     2        3   62.00           3           0  \n",
       "3      1521.0     3        1   95.00           3           0  \n",
       "4      1200.0     2        1   51.00           2           0  "
      ]
     },
     "execution_count": 68,
     "metadata": {},
     "output_type": "execute_result"
    },
    {
     "data": {
      "text/html": [
       "<div>\n",
       "<style scoped>\n",
       "    .dataframe tbody tr th:only-of-type {\n",
       "        vertical-align: middle;\n",
       "    }\n",
       "\n",
       "    .dataframe tbody tr th {\n",
       "        vertical-align: top;\n",
       "    }\n",
       "\n",
       "    .dataframe thead th {\n",
       "        text-align: right;\n",
       "    }\n",
       "</style>\n",
       "<table border=\"1\" class=\"dataframe\">\n",
       "  <thead>\n",
       "    <tr style=\"text-align: right;\">\n",
       "      <th></th>\n",
       "      <th>area_type</th>\n",
       "      <th>availability</th>\n",
       "      <th>location</th>\n",
       "      <th>society</th>\n",
       "      <th>total_sqft</th>\n",
       "      <th>bath</th>\n",
       "      <th>balcony</th>\n",
       "      <th>price</th>\n",
       "      <th>house_size</th>\n",
       "      <th>house_type</th>\n",
       "    </tr>\n",
       "  </thead>\n",
       "  <tbody>\n",
       "    <tr>\n",
       "      <th>0</th>\n",
       "      <td>Super built-up  Area</td>\n",
       "      <td>19-Dec</td>\n",
       "      <td>Electronic City Phase II</td>\n",
       "      <td>coomee</td>\n",
       "      <td>1056.0</td>\n",
       "      <td>2</td>\n",
       "      <td>1</td>\n",
       "      <td>39.07</td>\n",
       "      <td>2</td>\n",
       "      <td>0</td>\n",
       "    </tr>\n",
       "    <tr>\n",
       "      <th>1</th>\n",
       "      <td>Plot  Area</td>\n",
       "      <td>Ready To Move</td>\n",
       "      <td>Chikka Tirupathi</td>\n",
       "      <td>theanmp</td>\n",
       "      <td>2600.0</td>\n",
       "      <td>5</td>\n",
       "      <td>3</td>\n",
       "      <td>120.00</td>\n",
       "      <td>4</td>\n",
       "      <td>1</td>\n",
       "    </tr>\n",
       "    <tr>\n",
       "      <th>2</th>\n",
       "      <td>Built-up  Area</td>\n",
       "      <td>Ready To Move</td>\n",
       "      <td>Uttarahalli</td>\n",
       "      <td>independent</td>\n",
       "      <td>1440.0</td>\n",
       "      <td>2</td>\n",
       "      <td>3</td>\n",
       "      <td>62.00</td>\n",
       "      <td>3</td>\n",
       "      <td>0</td>\n",
       "    </tr>\n",
       "    <tr>\n",
       "      <th>3</th>\n",
       "      <td>Super built-up  Area</td>\n",
       "      <td>Ready To Move</td>\n",
       "      <td>Lingadheeranahalli</td>\n",
       "      <td>soiewre</td>\n",
       "      <td>1521.0</td>\n",
       "      <td>3</td>\n",
       "      <td>1</td>\n",
       "      <td>95.00</td>\n",
       "      <td>3</td>\n",
       "      <td>0</td>\n",
       "    </tr>\n",
       "    <tr>\n",
       "      <th>4</th>\n",
       "      <td>Super built-up  Area</td>\n",
       "      <td>Ready To Move</td>\n",
       "      <td>Kothanur</td>\n",
       "      <td>independent</td>\n",
       "      <td>1200.0</td>\n",
       "      <td>2</td>\n",
       "      <td>1</td>\n",
       "      <td>51.00</td>\n",
       "      <td>2</td>\n",
       "      <td>0</td>\n",
       "    </tr>\n",
       "  </tbody>\n",
       "</table>\n",
       "</div>"
      ],
      "text/plain": [
       "              area_type   availability                  location      society  \\\n",
       "0  Super built-up  Area         19-Dec  Electronic City Phase II      coomee    \n",
       "1            Plot  Area  Ready To Move          Chikka Tirupathi      theanmp   \n",
       "2        Built-up  Area  Ready To Move               Uttarahalli  independent   \n",
       "3  Super built-up  Area  Ready To Move        Lingadheeranahalli      soiewre   \n",
       "4  Super built-up  Area  Ready To Move                  Kothanur  independent   \n",
       "\n",
       "   total_sqft  bath  balcony   price  house_size  house_type  \n",
       "0      1056.0     2        1   39.07           2           0  \n",
       "1      2600.0     5        3  120.00           4           1  \n",
       "2      1440.0     2        3   62.00           3           0  \n",
       "3      1521.0     3        1   95.00           3           0  \n",
       "4      1200.0     2        1   51.00           2           0  "
      ]
     },
     "execution_count": 68,
     "metadata": {},
     "output_type": "execute_result"
    }
   ],
   "source": [
    "# Extract numeric part from 'size' column\n",
    "df['house_size'] = df['size'].str.extract('(\\d+)').astype(int)\n",
    "\n",
    "# Handle 'BHK', 'Bedroom', and 'RK'\n",
    "df['type'] = df['size'].apply(lambda x: 'BHK' if 'BHK' in x else ('Bedroom' if 'Bedroom' in x else 'RK'))\n",
    "\n",
    "# Map type to numerical values\n",
    "type_mapping = {'BHK': 0,'Bedroom': 1, 'RK': 2}\n",
    "df['house_type'] = df['type'].map(type_mapping)\n",
    "\n",
    "# Drop unnecessary columns\n",
    "df.drop(['size','type'], axis=1, inplace=True)\n",
    "df.head()"
   ]
  },
  {
   "cell_type": "code",
   "execution_count": 69,
   "id": "169dc5f7",
   "metadata": {},
   "outputs": [],
   "source": [
    "df.to_csv('cleaned_data.csv', index=False)"
   ]
  },
  {
   "cell_type": "code",
   "execution_count": 70,
   "id": "9d11c02c",
   "metadata": {},
   "outputs": [
    {
     "data": {
      "text/plain": [
       "(12808, 10)"
      ]
     },
     "execution_count": 70,
     "metadata": {},
     "output_type": "execute_result"
    },
    {
     "data": {
      "text/plain": [
       "(12808, 10)"
      ]
     },
     "execution_count": 70,
     "metadata": {},
     "output_type": "execute_result"
    }
   ],
   "source": [
    "df.shape"
   ]
  },
  {
   "cell_type": "code",
   "execution_count": null,
   "id": "5e896bdf",
   "metadata": {},
   "outputs": [],
   "source": []
  },
  {
   "cell_type": "code",
   "execution_count": null,
   "id": "26a8ce8f",
   "metadata": {},
   "outputs": [],
   "source": []
  }
 ],
 "metadata": {
  "colab": {
   "provenance": []
  },
  "kernelspec": {
   "display_name": "Python 3 (ipykernel)",
   "language": "python",
   "name": "python3"
  },
  "language_info": {
   "codemirror_mode": {
    "name": "ipython",
    "version": 3
   },
   "file_extension": ".py",
   "mimetype": "text/x-python",
   "name": "python",
   "nbconvert_exporter": "python",
   "pygments_lexer": "ipython3",
   "version": "3.11.5"
  }
 },
 "nbformat": 4,
 "nbformat_minor": 5
}
